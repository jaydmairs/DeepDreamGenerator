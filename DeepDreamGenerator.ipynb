{
 "cells": [
  {
   "cell_type": "code",
   "execution_count": null,
   "metadata": {
    "scrolled": true
   },
   "outputs": [
    {
     "name": "stdout",
     "output_type": "stream",
     "text": [
      "WARNING:tensorflow:From <ipython-input-1-dd6352e9b776>:40: FastGFile.__init__ (from tensorflow.python.platform.gfile) is deprecated and will be removed in a future version.\n",
      "Instructions for updating:\n",
      "Use tf.gfile.GFile.\n",
      "Number of layers 59\n",
      "Total number of feature channels: 7548\n",
      "['import/conv2d0_pre_relu/conv', 'import/conv2d1_pre_relu/conv', 'import/conv2d2_pre_relu/conv', 'import/mixed3a_1x1_pre_relu/conv', 'import/mixed3a_3x3_bottleneck_pre_relu/conv', 'import/mixed3a_3x3_pre_relu/conv', 'import/mixed3a_5x5_bottleneck_pre_relu/conv', 'import/mixed3a_5x5_pre_relu/conv', 'import/mixed3a_pool_reduce_pre_relu/conv', 'import/mixed3b_1x1_pre_relu/conv', 'import/mixed3b_3x3_bottleneck_pre_relu/conv', 'import/mixed3b_3x3_pre_relu/conv', 'import/mixed3b_5x5_bottleneck_pre_relu/conv', 'import/mixed3b_5x5_pre_relu/conv', 'import/mixed3b_pool_reduce_pre_relu/conv', 'import/mixed4a_1x1_pre_relu/conv', 'import/mixed4a_3x3_bottleneck_pre_relu/conv', 'import/mixed4a_3x3_pre_relu/conv', 'import/mixed4a_5x5_bottleneck_pre_relu/conv', 'import/mixed4a_5x5_pre_relu/conv', 'import/mixed4a_pool_reduce_pre_relu/conv', 'import/mixed4b_1x1_pre_relu/conv', 'import/mixed4b_3x3_bottleneck_pre_relu/conv', 'import/mixed4b_3x3_pre_relu/conv', 'import/mixed4b_5x5_bottleneck_pre_relu/conv', 'import/mixed4b_5x5_pre_relu/conv', 'import/mixed4b_pool_reduce_pre_relu/conv', 'import/mixed4c_1x1_pre_relu/conv', 'import/mixed4c_3x3_bottleneck_pre_relu/conv', 'import/mixed4c_3x3_pre_relu/conv', 'import/mixed4c_5x5_bottleneck_pre_relu/conv', 'import/mixed4c_5x5_pre_relu/conv', 'import/mixed4c_pool_reduce_pre_relu/conv', 'import/mixed4d_1x1_pre_relu/conv', 'import/mixed4d_3x3_bottleneck_pre_relu/conv', 'import/mixed4d_3x3_pre_relu/conv', 'import/mixed4d_5x5_bottleneck_pre_relu/conv', 'import/mixed4d_5x5_pre_relu/conv', 'import/mixed4d_pool_reduce_pre_relu/conv', 'import/mixed4e_1x1_pre_relu/conv', 'import/mixed4e_3x3_bottleneck_pre_relu/conv', 'import/mixed4e_3x3_pre_relu/conv', 'import/mixed4e_5x5_bottleneck_pre_relu/conv', 'import/mixed4e_5x5_pre_relu/conv', 'import/mixed4e_pool_reduce_pre_relu/conv', 'import/mixed5a_1x1_pre_relu/conv', 'import/mixed5a_3x3_bottleneck_pre_relu/conv', 'import/mixed5a_3x3_pre_relu/conv', 'import/mixed5a_5x5_bottleneck_pre_relu/conv', 'import/mixed5a_5x5_pre_relu/conv', 'import/mixed5a_pool_reduce_pre_relu/conv', 'import/mixed5b_1x1_pre_relu/conv', 'import/mixed5b_3x3_bottleneck_pre_relu/conv', 'import/mixed5b_3x3_pre_relu/conv', 'import/mixed5b_5x5_bottleneck_pre_relu/conv', 'import/mixed5b_5x5_pre_relu/conv', 'import/mixed5b_pool_reduce_pre_relu/conv', 'import/head0_bottleneck_pre_relu/conv', 'import/head1_bottleneck_pre_relu/conv']\n"
     ]
    },
    {
     "data": {
      "text/plain": [
       "<Figure size 1137.78x1137.78 with 0 Axes>"
      ]
     },
     "metadata": {},
     "output_type": "display_data"
    },
    {
     "name": "stdout",
     "output_type": "stream",
     "text": [
      "Saved Max weight: [109.75759]\n",
      "Saved Max weight: [15.919671]\n",
      "Saved Max weight: [124.62882]\n",
      "Saved Max weight: [142.65172]\n",
      "Saved Max weight: [122.29683]\n",
      "Saved Max weight: [94.82359]\n",
      "Saved Max weight: [102.33601]\n",
      "Saved Max weight: [94.18826]\n",
      "Saved Max weight: [109.59204]\n",
      "Saved Max weight: [64.13696]\n",
      "Saved Max weight: [52.961422]\n",
      "Saved Max weight: [123.124535]\n",
      "import/mixed5a:0\n",
      "3.543058980342317\n",
      "import/mixed5b:0\n",
      "0.07929599911150537\n",
      "import/mixed4a:0\n",
      "0.22117969692034478\n",
      "import/mixed4b:0\n",
      "0.36848372553244246\n",
      "import/mixed4c:0\n",
      "1.3566000283800008\n",
      "import/mixed4d:0\n",
      "1.8350027180702142\n",
      "import/mixed4e:0\n",
      "0.749106002127801\n",
      "import/mixed3a:0\n",
      "0.0491889024493541\n",
      "import/mixed3b:0\n",
      "0.025222333030449164\n",
      "import/conv2d2:0\n",
      "0.0008556744305843784\n",
      "import/conv2d1:0\n",
      "0.0007051882786785941\n",
      "import/conv2d0:0\n",
      "0.00035027442028653987\n",
      "octave = 0\n",
      "low_octave_ind = 0\n",
      "high_octave_ind = 14\n",
      "5\n"
     ]
    },
    {
     "data": {
      "text/plain": [
       "<Figure size 640x480 with 1 Axes>"
      ]
     },
     "metadata": {},
     "output_type": "display_data"
    },
    {
     "name": "stdout",
     "output_type": "stream",
     "text": [
      "5\n"
     ]
    },
    {
     "data": {
      "text/plain": [
       "<Figure size 640x480 with 1 Axes>"
      ]
     },
     "metadata": {},
     "output_type": "display_data"
    },
    {
     "name": "stdout",
     "output_type": "stream",
     "text": [
      "2\n"
     ]
    },
    {
     "data": {
      "text/plain": [
       "<Figure size 640x480 with 1 Axes>"
      ]
     },
     "metadata": {},
     "output_type": "display_data"
    },
    {
     "name": "stdout",
     "output_type": "stream",
     "text": [
      "2\n"
     ]
    },
    {
     "data": {
      "text/plain": [
       "<Figure size 640x480 with 1 Axes>"
      ]
     },
     "metadata": {},
     "output_type": "display_data"
    },
    {
     "name": "stdout",
     "output_type": "stream",
     "text": [
      "2\n"
     ]
    },
    {
     "data": {
      "text/plain": [
       "<Figure size 640x480 with 1 Axes>"
      ]
     },
     "metadata": {},
     "output_type": "display_data"
    },
    {
     "name": "stdout",
     "output_type": "stream",
     "text": [
      "2\n"
     ]
    },
    {
     "data": {
      "text/plain": [
       "<Figure size 640x480 with 1 Axes>"
      ]
     },
     "metadata": {},
     "output_type": "display_data"
    },
    {
     "name": "stdout",
     "output_type": "stream",
     "text": [
      "2\n"
     ]
    },
    {
     "data": {
      "text/plain": [
       "<Figure size 640x480 with 1 Axes>"
      ]
     },
     "metadata": {},
     "output_type": "display_data"
    },
    {
     "name": "stdout",
     "output_type": "stream",
     "text": [
      "5\n"
     ]
    },
    {
     "data": {
      "text/plain": [
       "<Figure size 640x480 with 1 Axes>"
      ]
     },
     "metadata": {},
     "output_type": "display_data"
    },
    {
     "name": "stdout",
     "output_type": "stream",
     "text": [
      "5\n"
     ]
    },
    {
     "data": {
      "text/plain": [
       "<Figure size 640x480 with 1 Axes>"
      ]
     },
     "metadata": {},
     "output_type": "display_data"
    },
    {
     "name": "stdout",
     "output_type": "stream",
     "text": [
      "3\n"
     ]
    },
    {
     "data": {
      "text/plain": [
       "<Figure size 640x480 with 1 Axes>"
      ]
     },
     "metadata": {},
     "output_type": "display_data"
    },
    {
     "name": "stdout",
     "output_type": "stream",
     "text": [
      "3\n"
     ]
    },
    {
     "data": {
      "text/plain": [
       "<Figure size 640x480 with 1 Axes>"
      ]
     },
     "metadata": {},
     "output_type": "display_data"
    },
    {
     "name": "stdout",
     "output_type": "stream",
     "text": [
      "3\n"
     ]
    },
    {
     "data": {
      "text/plain": [
       "<Figure size 640x480 with 1 Axes>"
      ]
     },
     "metadata": {},
     "output_type": "display_data"
    },
    {
     "name": "stdout",
     "output_type": "stream",
     "text": [
      "0\n",
      "octave = 1\n",
      "low_octave_ind = 0\n",
      "high_octave_ind = 14\n",
      "(5, 5, 3)\n",
      "5\n"
     ]
    },
    {
     "data": {
      "text/plain": [
       "<Figure size 640x480 with 1 Axes>"
      ]
     },
     "metadata": {},
     "output_type": "display_data"
    },
    {
     "name": "stdout",
     "output_type": "stream",
     "text": [
      "5\n"
     ]
    },
    {
     "data": {
      "text/plain": [
       "<Figure size 640x480 with 1 Axes>"
      ]
     },
     "metadata": {},
     "output_type": "display_data"
    },
    {
     "name": "stdout",
     "output_type": "stream",
     "text": [
      "2\n"
     ]
    },
    {
     "data": {
      "text/plain": [
       "<Figure size 640x480 with 1 Axes>"
      ]
     },
     "metadata": {},
     "output_type": "display_data"
    },
    {
     "name": "stdout",
     "output_type": "stream",
     "text": [
      "2\n"
     ]
    },
    {
     "data": {
      "text/plain": [
       "<Figure size 640x480 with 1 Axes>"
      ]
     },
     "metadata": {},
     "output_type": "display_data"
    },
    {
     "name": "stdout",
     "output_type": "stream",
     "text": [
      "2\n"
     ]
    },
    {
     "data": {
      "text/plain": [
       "<Figure size 640x480 with 1 Axes>"
      ]
     },
     "metadata": {},
     "output_type": "display_data"
    },
    {
     "name": "stdout",
     "output_type": "stream",
     "text": [
      "2\n"
     ]
    },
    {
     "data": {
      "text/plain": [
       "<Figure size 640x480 with 1 Axes>"
      ]
     },
     "metadata": {},
     "output_type": "display_data"
    },
    {
     "name": "stdout",
     "output_type": "stream",
     "text": [
      "2\n"
     ]
    },
    {
     "data": {
      "text/plain": [
       "<Figure size 640x480 with 1 Axes>"
      ]
     },
     "metadata": {},
     "output_type": "display_data"
    },
    {
     "name": "stdout",
     "output_type": "stream",
     "text": [
      "5\n"
     ]
    },
    {
     "data": {
      "text/plain": [
       "<Figure size 640x480 with 1 Axes>"
      ]
     },
     "metadata": {},
     "output_type": "display_data"
    },
    {
     "name": "stdout",
     "output_type": "stream",
     "text": [
      "5\n"
     ]
    },
    {
     "data": {
      "text/plain": [
       "<Figure size 640x480 with 1 Axes>"
      ]
     },
     "metadata": {},
     "output_type": "display_data"
    },
    {
     "name": "stdout",
     "output_type": "stream",
     "text": [
      "3\n"
     ]
    },
    {
     "data": {
      "text/plain": [
       "<Figure size 640x480 with 1 Axes>"
      ]
     },
     "metadata": {},
     "output_type": "display_data"
    },
    {
     "name": "stdout",
     "output_type": "stream",
     "text": [
      "3\n"
     ]
    },
    {
     "data": {
      "text/plain": [
       "<Figure size 640x480 with 1 Axes>"
      ]
     },
     "metadata": {},
     "output_type": "display_data"
    },
    {
     "name": "stdout",
     "output_type": "stream",
     "text": [
      "3\n"
     ]
    },
    {
     "data": {
      "text/plain": [
       "<Figure size 640x480 with 1 Axes>"
      ]
     },
     "metadata": {},
     "output_type": "display_data"
    },
    {
     "name": "stdout",
     "output_type": "stream",
     "text": [
      "1\n",
      "octave = 2\n",
      "low_octave_ind = 0\n",
      "high_octave_ind = 14\n",
      "(7, 7, 3)\n",
      "5\n"
     ]
    },
    {
     "data": {
      "text/plain": [
       "<Figure size 640x480 with 1 Axes>"
      ]
     },
     "metadata": {},
     "output_type": "display_data"
    },
    {
     "name": "stdout",
     "output_type": "stream",
     "text": [
      "5\n"
     ]
    },
    {
     "data": {
      "text/plain": [
       "<Figure size 640x480 with 1 Axes>"
      ]
     },
     "metadata": {},
     "output_type": "display_data"
    },
    {
     "name": "stdout",
     "output_type": "stream",
     "text": [
      "2\n"
     ]
    },
    {
     "data": {
      "text/plain": [
       "<Figure size 640x480 with 1 Axes>"
      ]
     },
     "metadata": {},
     "output_type": "display_data"
    },
    {
     "name": "stdout",
     "output_type": "stream",
     "text": [
      "2\n"
     ]
    },
    {
     "data": {
      "text/plain": [
       "<Figure size 640x480 with 1 Axes>"
      ]
     },
     "metadata": {},
     "output_type": "display_data"
    },
    {
     "name": "stdout",
     "output_type": "stream",
     "text": [
      "2\n"
     ]
    },
    {
     "data": {
      "text/plain": [
       "<Figure size 640x480 with 1 Axes>"
      ]
     },
     "metadata": {},
     "output_type": "display_data"
    },
    {
     "name": "stdout",
     "output_type": "stream",
     "text": [
      "2\n"
     ]
    },
    {
     "data": {
      "text/plain": [
       "<Figure size 640x480 with 1 Axes>"
      ]
     },
     "metadata": {},
     "output_type": "display_data"
    },
    {
     "name": "stdout",
     "output_type": "stream",
     "text": [
      "2\n"
     ]
    },
    {
     "data": {
      "text/plain": [
       "<Figure size 640x480 with 1 Axes>"
      ]
     },
     "metadata": {},
     "output_type": "display_data"
    },
    {
     "name": "stdout",
     "output_type": "stream",
     "text": [
      "5\n"
     ]
    },
    {
     "data": {
      "text/plain": [
       "<Figure size 640x480 with 1 Axes>"
      ]
     },
     "metadata": {},
     "output_type": "display_data"
    },
    {
     "name": "stdout",
     "output_type": "stream",
     "text": [
      "5\n"
     ]
    },
    {
     "data": {
      "text/plain": [
       "<Figure size 640x480 with 1 Axes>"
      ]
     },
     "metadata": {},
     "output_type": "display_data"
    },
    {
     "name": "stdout",
     "output_type": "stream",
     "text": [
      "3\n"
     ]
    },
    {
     "data": {
      "text/plain": [
       "<Figure size 640x480 with 1 Axes>"
      ]
     },
     "metadata": {},
     "output_type": "display_data"
    },
    {
     "name": "stdout",
     "output_type": "stream",
     "text": [
      "3\n"
     ]
    },
    {
     "data": {
      "text/plain": [
       "<Figure size 640x480 with 1 Axes>"
      ]
     },
     "metadata": {},
     "output_type": "display_data"
    },
    {
     "name": "stdout",
     "output_type": "stream",
     "text": [
      "3\n"
     ]
    },
    {
     "data": {
      "text/plain": [
       "<Figure size 640x480 with 1 Axes>"
      ]
     },
     "metadata": {},
     "output_type": "display_data"
    },
    {
     "name": "stdout",
     "output_type": "stream",
     "text": [
      "2\n",
      "octave = 3\n",
      "low_octave_ind = 0\n",
      "high_octave_ind = 14\n",
      "(11, 11, 3)\n",
      "5\n"
     ]
    },
    {
     "data": {
      "text/plain": [
       "<Figure size 640x480 with 1 Axes>"
      ]
     },
     "metadata": {},
     "output_type": "display_data"
    },
    {
     "name": "stdout",
     "output_type": "stream",
     "text": [
      "5\n"
     ]
    },
    {
     "data": {
      "text/plain": [
       "<Figure size 640x480 with 1 Axes>"
      ]
     },
     "metadata": {},
     "output_type": "display_data"
    },
    {
     "name": "stdout",
     "output_type": "stream",
     "text": [
      "2\n"
     ]
    },
    {
     "data": {
      "text/plain": [
       "<Figure size 640x480 with 1 Axes>"
      ]
     },
     "metadata": {},
     "output_type": "display_data"
    },
    {
     "name": "stdout",
     "output_type": "stream",
     "text": [
      "2\n"
     ]
    },
    {
     "data": {
      "text/plain": [
       "<Figure size 640x480 with 1 Axes>"
      ]
     },
     "metadata": {},
     "output_type": "display_data"
    },
    {
     "name": "stdout",
     "output_type": "stream",
     "text": [
      "2\n"
     ]
    },
    {
     "data": {
      "text/plain": [
       "<Figure size 640x480 with 1 Axes>"
      ]
     },
     "metadata": {},
     "output_type": "display_data"
    },
    {
     "name": "stdout",
     "output_type": "stream",
     "text": [
      "2\n"
     ]
    },
    {
     "data": {
      "text/plain": [
       "<Figure size 640x480 with 1 Axes>"
      ]
     },
     "metadata": {},
     "output_type": "display_data"
    },
    {
     "name": "stdout",
     "output_type": "stream",
     "text": [
      "2\n"
     ]
    },
    {
     "data": {
      "text/plain": [
       "<Figure size 640x480 with 1 Axes>"
      ]
     },
     "metadata": {},
     "output_type": "display_data"
    },
    {
     "name": "stdout",
     "output_type": "stream",
     "text": [
      "5\n"
     ]
    },
    {
     "data": {
      "text/plain": [
       "<Figure size 640x480 with 1 Axes>"
      ]
     },
     "metadata": {},
     "output_type": "display_data"
    },
    {
     "name": "stdout",
     "output_type": "stream",
     "text": [
      "5\n"
     ]
    },
    {
     "data": {
      "text/plain": [
       "<Figure size 640x480 with 1 Axes>"
      ]
     },
     "metadata": {},
     "output_type": "display_data"
    },
    {
     "name": "stdout",
     "output_type": "stream",
     "text": [
      "3\n"
     ]
    },
    {
     "data": {
      "text/plain": [
       "<Figure size 640x480 with 1 Axes>"
      ]
     },
     "metadata": {},
     "output_type": "display_data"
    },
    {
     "name": "stdout",
     "output_type": "stream",
     "text": [
      "3\n"
     ]
    },
    {
     "data": {
      "text/plain": [
       "<Figure size 640x480 with 1 Axes>"
      ]
     },
     "metadata": {},
     "output_type": "display_data"
    },
    {
     "name": "stdout",
     "output_type": "stream",
     "text": [
      "3\n"
     ]
    },
    {
     "data": {
      "text/plain": [
       "<Figure size 640x480 with 1 Axes>"
      ]
     },
     "metadata": {},
     "output_type": "display_data"
    },
    {
     "name": "stdout",
     "output_type": "stream",
     "text": [
      "3\n",
      "octave = 4\n",
      "low_octave_ind = 0\n",
      "high_octave_ind = 14\n",
      "(16, 16, 3)\n",
      "5\n"
     ]
    },
    {
     "data": {
      "text/plain": [
       "<Figure size 640x480 with 1 Axes>"
      ]
     },
     "metadata": {},
     "output_type": "display_data"
    },
    {
     "name": "stdout",
     "output_type": "stream",
     "text": [
      "5\n"
     ]
    },
    {
     "data": {
      "text/plain": [
       "<Figure size 640x480 with 1 Axes>"
      ]
     },
     "metadata": {},
     "output_type": "display_data"
    },
    {
     "name": "stdout",
     "output_type": "stream",
     "text": [
      "2\n"
     ]
    },
    {
     "data": {
      "text/plain": [
       "<Figure size 640x480 with 1 Axes>"
      ]
     },
     "metadata": {},
     "output_type": "display_data"
    },
    {
     "name": "stdout",
     "output_type": "stream",
     "text": [
      "2\n"
     ]
    },
    {
     "data": {
      "text/plain": [
       "<Figure size 640x480 with 1 Axes>"
      ]
     },
     "metadata": {},
     "output_type": "display_data"
    },
    {
     "name": "stdout",
     "output_type": "stream",
     "text": [
      "2\n"
     ]
    },
    {
     "data": {
      "text/plain": [
       "<Figure size 640x480 with 1 Axes>"
      ]
     },
     "metadata": {},
     "output_type": "display_data"
    },
    {
     "name": "stdout",
     "output_type": "stream",
     "text": [
      "2\n"
     ]
    },
    {
     "data": {
      "text/plain": [
       "<Figure size 640x480 with 1 Axes>"
      ]
     },
     "metadata": {},
     "output_type": "display_data"
    },
    {
     "name": "stdout",
     "output_type": "stream",
     "text": [
      "2\n"
     ]
    },
    {
     "data": {
      "text/plain": [
       "<Figure size 640x480 with 1 Axes>"
      ]
     },
     "metadata": {},
     "output_type": "display_data"
    },
    {
     "name": "stdout",
     "output_type": "stream",
     "text": [
      "5\n"
     ]
    },
    {
     "data": {
      "text/plain": [
       "<Figure size 640x480 with 1 Axes>"
      ]
     },
     "metadata": {},
     "output_type": "display_data"
    },
    {
     "name": "stdout",
     "output_type": "stream",
     "text": [
      "5\n"
     ]
    },
    {
     "data": {
      "text/plain": [
       "<Figure size 640x480 with 1 Axes>"
      ]
     },
     "metadata": {},
     "output_type": "display_data"
    },
    {
     "name": "stdout",
     "output_type": "stream",
     "text": [
      "3\n"
     ]
    },
    {
     "data": {
      "text/plain": [
       "<Figure size 640x480 with 1 Axes>"
      ]
     },
     "metadata": {},
     "output_type": "display_data"
    },
    {
     "name": "stdout",
     "output_type": "stream",
     "text": [
      "3\n"
     ]
    },
    {
     "data": {
      "text/plain": [
       "<Figure size 640x480 with 1 Axes>"
      ]
     },
     "metadata": {},
     "output_type": "display_data"
    },
    {
     "name": "stdout",
     "output_type": "stream",
     "text": [
      "3\n"
     ]
    },
    {
     "data": {
      "text/plain": [
       "<Figure size 640x480 with 1 Axes>"
      ]
     },
     "metadata": {},
     "output_type": "display_data"
    },
    {
     "name": "stdout",
     "output_type": "stream",
     "text": [
      "4\n",
      "octave = 5\n",
      "low_octave_ind = 0\n",
      "high_octave_ind = 14\n",
      "(23, 23, 3)\n",
      "5\n"
     ]
    },
    {
     "data": {
      "text/plain": [
       "<Figure size 640x480 with 1 Axes>"
      ]
     },
     "metadata": {},
     "output_type": "display_data"
    },
    {
     "name": "stdout",
     "output_type": "stream",
     "text": [
      "5\n"
     ]
    },
    {
     "data": {
      "text/plain": [
       "<Figure size 640x480 with 1 Axes>"
      ]
     },
     "metadata": {},
     "output_type": "display_data"
    },
    {
     "name": "stdout",
     "output_type": "stream",
     "text": [
      "2\n"
     ]
    },
    {
     "data": {
      "text/plain": [
       "<Figure size 640x480 with 1 Axes>"
      ]
     },
     "metadata": {},
     "output_type": "display_data"
    },
    {
     "name": "stdout",
     "output_type": "stream",
     "text": [
      "2\n"
     ]
    },
    {
     "data": {
      "text/plain": [
       "<Figure size 640x480 with 1 Axes>"
      ]
     },
     "metadata": {},
     "output_type": "display_data"
    },
    {
     "name": "stdout",
     "output_type": "stream",
     "text": [
      "2\n"
     ]
    },
    {
     "data": {
      "text/plain": [
       "<Figure size 640x480 with 1 Axes>"
      ]
     },
     "metadata": {},
     "output_type": "display_data"
    },
    {
     "name": "stdout",
     "output_type": "stream",
     "text": [
      "2\n"
     ]
    },
    {
     "data": {
      "text/plain": [
       "<Figure size 640x480 with 1 Axes>"
      ]
     },
     "metadata": {},
     "output_type": "display_data"
    },
    {
     "name": "stdout",
     "output_type": "stream",
     "text": [
      "2\n"
     ]
    },
    {
     "data": {
      "text/plain": [
       "<Figure size 640x480 with 1 Axes>"
      ]
     },
     "metadata": {},
     "output_type": "display_data"
    },
    {
     "name": "stdout",
     "output_type": "stream",
     "text": [
      "5\n"
     ]
    },
    {
     "data": {
      "text/plain": [
       "<Figure size 640x480 with 1 Axes>"
      ]
     },
     "metadata": {},
     "output_type": "display_data"
    },
    {
     "name": "stdout",
     "output_type": "stream",
     "text": [
      "5\n"
     ]
    },
    {
     "data": {
      "text/plain": [
       "<Figure size 640x480 with 1 Axes>"
      ]
     },
     "metadata": {},
     "output_type": "display_data"
    },
    {
     "name": "stdout",
     "output_type": "stream",
     "text": [
      "3\n"
     ]
    },
    {
     "data": {
      "text/plain": [
       "<Figure size 640x480 with 1 Axes>"
      ]
     },
     "metadata": {},
     "output_type": "display_data"
    },
    {
     "name": "stdout",
     "output_type": "stream",
     "text": [
      "3\n"
     ]
    },
    {
     "data": {
      "text/plain": [
       "<Figure size 640x480 with 1 Axes>"
      ]
     },
     "metadata": {},
     "output_type": "display_data"
    },
    {
     "name": "stdout",
     "output_type": "stream",
     "text": [
      "3\n"
     ]
    },
    {
     "data": {
      "text/plain": [
       "<Figure size 640x480 with 1 Axes>"
      ]
     },
     "metadata": {},
     "output_type": "display_data"
    },
    {
     "name": "stdout",
     "output_type": "stream",
     "text": [
      "5\n",
      "octave = 6\n",
      "low_octave_ind = 0\n",
      "high_octave_ind = 14\n",
      "(33, 33, 3)\n",
      "5\n"
     ]
    },
    {
     "data": {
      "text/plain": [
       "<Figure size 640x480 with 1 Axes>"
      ]
     },
     "metadata": {},
     "output_type": "display_data"
    },
    {
     "name": "stdout",
     "output_type": "stream",
     "text": [
      "5\n"
     ]
    },
    {
     "data": {
      "text/plain": [
       "<Figure size 640x480 with 1 Axes>"
      ]
     },
     "metadata": {},
     "output_type": "display_data"
    },
    {
     "name": "stdout",
     "output_type": "stream",
     "text": [
      "2\n"
     ]
    },
    {
     "data": {
      "text/plain": [
       "<Figure size 640x480 with 1 Axes>"
      ]
     },
     "metadata": {},
     "output_type": "display_data"
    },
    {
     "name": "stdout",
     "output_type": "stream",
     "text": [
      "2\n"
     ]
    },
    {
     "data": {
      "text/plain": [
       "<Figure size 640x480 with 1 Axes>"
      ]
     },
     "metadata": {},
     "output_type": "display_data"
    },
    {
     "name": "stdout",
     "output_type": "stream",
     "text": [
      "2\n"
     ]
    },
    {
     "data": {
      "text/plain": [
       "<Figure size 640x480 with 1 Axes>"
      ]
     },
     "metadata": {},
     "output_type": "display_data"
    },
    {
     "name": "stdout",
     "output_type": "stream",
     "text": [
      "2\n"
     ]
    },
    {
     "data": {
      "text/plain": [
       "<Figure size 640x480 with 1 Axes>"
      ]
     },
     "metadata": {},
     "output_type": "display_data"
    },
    {
     "name": "stdout",
     "output_type": "stream",
     "text": [
      "2\n"
     ]
    },
    {
     "data": {
      "text/plain": [
       "<Figure size 640x480 with 1 Axes>"
      ]
     },
     "metadata": {},
     "output_type": "display_data"
    },
    {
     "name": "stdout",
     "output_type": "stream",
     "text": [
      "5\n"
     ]
    },
    {
     "data": {
      "text/plain": [
       "<Figure size 640x480 with 1 Axes>"
      ]
     },
     "metadata": {},
     "output_type": "display_data"
    },
    {
     "name": "stdout",
     "output_type": "stream",
     "text": [
      "5\n"
     ]
    },
    {
     "data": {
      "text/plain": [
       "<Figure size 640x480 with 1 Axes>"
      ]
     },
     "metadata": {},
     "output_type": "display_data"
    },
    {
     "name": "stdout",
     "output_type": "stream",
     "text": [
      "3\n"
     ]
    },
    {
     "data": {
      "text/plain": [
       "<Figure size 640x480 with 1 Axes>"
      ]
     },
     "metadata": {},
     "output_type": "display_data"
    },
    {
     "name": "stdout",
     "output_type": "stream",
     "text": [
      "3\n"
     ]
    },
    {
     "data": {
      "text/plain": [
       "<Figure size 640x480 with 1 Axes>"
      ]
     },
     "metadata": {},
     "output_type": "display_data"
    },
    {
     "name": "stdout",
     "output_type": "stream",
     "text": [
      "3\n"
     ]
    },
    {
     "data": {
      "text/plain": [
       "<Figure size 640x480 with 1 Axes>"
      ]
     },
     "metadata": {},
     "output_type": "display_data"
    },
    {
     "name": "stdout",
     "output_type": "stream",
     "text": [
      "6\n",
      "octave = 7\n",
      "low_octave_ind = 0\n",
      "high_octave_ind = 14\n",
      "(47, 47, 3)\n",
      "5\n"
     ]
    },
    {
     "data": {
      "text/plain": [
       "<Figure size 640x480 with 1 Axes>"
      ]
     },
     "metadata": {},
     "output_type": "display_data"
    },
    {
     "name": "stdout",
     "output_type": "stream",
     "text": [
      "5\n"
     ]
    },
    {
     "data": {
      "text/plain": [
       "<Figure size 640x480 with 1 Axes>"
      ]
     },
     "metadata": {},
     "output_type": "display_data"
    },
    {
     "name": "stdout",
     "output_type": "stream",
     "text": [
      "2\n"
     ]
    },
    {
     "data": {
      "text/plain": [
       "<Figure size 640x480 with 1 Axes>"
      ]
     },
     "metadata": {},
     "output_type": "display_data"
    },
    {
     "name": "stdout",
     "output_type": "stream",
     "text": [
      "2\n"
     ]
    },
    {
     "data": {
      "text/plain": [
       "<Figure size 640x480 with 1 Axes>"
      ]
     },
     "metadata": {},
     "output_type": "display_data"
    },
    {
     "name": "stdout",
     "output_type": "stream",
     "text": [
      "2\n"
     ]
    },
    {
     "data": {
      "text/plain": [
       "<Figure size 640x480 with 1 Axes>"
      ]
     },
     "metadata": {},
     "output_type": "display_data"
    },
    {
     "name": "stdout",
     "output_type": "stream",
     "text": [
      "2\n"
     ]
    },
    {
     "data": {
      "text/plain": [
       "<Figure size 640x480 with 1 Axes>"
      ]
     },
     "metadata": {},
     "output_type": "display_data"
    },
    {
     "name": "stdout",
     "output_type": "stream",
     "text": [
      "2\n"
     ]
    },
    {
     "data": {
      "text/plain": [
       "<Figure size 640x480 with 1 Axes>"
      ]
     },
     "metadata": {},
     "output_type": "display_data"
    },
    {
     "name": "stdout",
     "output_type": "stream",
     "text": [
      "5\n"
     ]
    },
    {
     "data": {
      "text/plain": [
       "<Figure size 640x480 with 1 Axes>"
      ]
     },
     "metadata": {},
     "output_type": "display_data"
    },
    {
     "name": "stdout",
     "output_type": "stream",
     "text": [
      "5\n"
     ]
    },
    {
     "data": {
      "text/plain": [
       "<Figure size 640x480 with 1 Axes>"
      ]
     },
     "metadata": {},
     "output_type": "display_data"
    },
    {
     "name": "stdout",
     "output_type": "stream",
     "text": [
      "3\n"
     ]
    },
    {
     "data": {
      "text/plain": [
       "<Figure size 640x480 with 1 Axes>"
      ]
     },
     "metadata": {},
     "output_type": "display_data"
    },
    {
     "name": "stdout",
     "output_type": "stream",
     "text": [
      "3\n"
     ]
    },
    {
     "data": {
      "text/plain": [
       "<Figure size 640x480 with 1 Axes>"
      ]
     },
     "metadata": {},
     "output_type": "display_data"
    },
    {
     "name": "stdout",
     "output_type": "stream",
     "text": [
      "3\n"
     ]
    },
    {
     "data": {
      "text/plain": [
       "<Figure size 640x480 with 1 Axes>"
      ]
     },
     "metadata": {},
     "output_type": "display_data"
    },
    {
     "name": "stdout",
     "output_type": "stream",
     "text": [
      "7\n",
      "octave = 8\n",
      "low_octave_ind = 0\n",
      "high_octave_ind = 14\n",
      "(67, 67, 3)\n",
      "5\n"
     ]
    },
    {
     "data": {
      "text/plain": [
       "<Figure size 640x480 with 1 Axes>"
      ]
     },
     "metadata": {},
     "output_type": "display_data"
    },
    {
     "name": "stdout",
     "output_type": "stream",
     "text": [
      "5\n"
     ]
    },
    {
     "data": {
      "text/plain": [
       "<Figure size 640x480 with 1 Axes>"
      ]
     },
     "metadata": {},
     "output_type": "display_data"
    },
    {
     "name": "stdout",
     "output_type": "stream",
     "text": [
      "2\n"
     ]
    },
    {
     "data": {
      "text/plain": [
       "<Figure size 640x480 with 1 Axes>"
      ]
     },
     "metadata": {},
     "output_type": "display_data"
    },
    {
     "name": "stdout",
     "output_type": "stream",
     "text": [
      "2\n"
     ]
    },
    {
     "data": {
      "text/plain": [
       "<Figure size 640x480 with 1 Axes>"
      ]
     },
     "metadata": {},
     "output_type": "display_data"
    },
    {
     "name": "stdout",
     "output_type": "stream",
     "text": [
      "2\n"
     ]
    },
    {
     "data": {
      "text/plain": [
       "<Figure size 640x480 with 1 Axes>"
      ]
     },
     "metadata": {},
     "output_type": "display_data"
    },
    {
     "name": "stdout",
     "output_type": "stream",
     "text": [
      "2\n"
     ]
    },
    {
     "data": {
      "text/plain": [
       "<Figure size 640x480 with 1 Axes>"
      ]
     },
     "metadata": {},
     "output_type": "display_data"
    },
    {
     "name": "stdout",
     "output_type": "stream",
     "text": [
      "2\n"
     ]
    },
    {
     "data": {
      "text/plain": [
       "<Figure size 640x480 with 1 Axes>"
      ]
     },
     "metadata": {},
     "output_type": "display_data"
    },
    {
     "name": "stdout",
     "output_type": "stream",
     "text": [
      "5\n"
     ]
    },
    {
     "data": {
      "text/plain": [
       "<Figure size 640x480 with 1 Axes>"
      ]
     },
     "metadata": {},
     "output_type": "display_data"
    },
    {
     "name": "stdout",
     "output_type": "stream",
     "text": [
      "5\n"
     ]
    },
    {
     "data": {
      "text/plain": [
       "<Figure size 640x480 with 1 Axes>"
      ]
     },
     "metadata": {},
     "output_type": "display_data"
    },
    {
     "name": "stdout",
     "output_type": "stream",
     "text": [
      "3\n"
     ]
    },
    {
     "data": {
      "text/plain": [
       "<Figure size 640x480 with 1 Axes>"
      ]
     },
     "metadata": {},
     "output_type": "display_data"
    },
    {
     "name": "stdout",
     "output_type": "stream",
     "text": [
      "3\n"
     ]
    },
    {
     "data": {
      "text/plain": [
       "<Figure size 640x480 with 1 Axes>"
      ]
     },
     "metadata": {},
     "output_type": "display_data"
    },
    {
     "name": "stdout",
     "output_type": "stream",
     "text": [
      "3\n"
     ]
    },
    {
     "data": {
      "text/plain": [
       "<Figure size 640x480 with 1 Axes>"
      ]
     },
     "metadata": {},
     "output_type": "display_data"
    },
    {
     "name": "stdout",
     "output_type": "stream",
     "text": [
      "8\n",
      "octave = 9\n",
      "low_octave_ind = 0\n",
      "high_octave_ind = 14\n",
      "(94, 94, 3)\n",
      "5\n"
     ]
    },
    {
     "data": {
      "text/plain": [
       "<Figure size 640x480 with 1 Axes>"
      ]
     },
     "metadata": {},
     "output_type": "display_data"
    },
    {
     "name": "stdout",
     "output_type": "stream",
     "text": [
      "5\n"
     ]
    },
    {
     "data": {
      "text/plain": [
       "<Figure size 640x480 with 1 Axes>"
      ]
     },
     "metadata": {},
     "output_type": "display_data"
    },
    {
     "name": "stdout",
     "output_type": "stream",
     "text": [
      "2\n"
     ]
    },
    {
     "data": {
      "text/plain": [
       "<Figure size 640x480 with 1 Axes>"
      ]
     },
     "metadata": {},
     "output_type": "display_data"
    },
    {
     "name": "stdout",
     "output_type": "stream",
     "text": [
      "2\n"
     ]
    },
    {
     "data": {
      "text/plain": [
       "<Figure size 640x480 with 1 Axes>"
      ]
     },
     "metadata": {},
     "output_type": "display_data"
    },
    {
     "name": "stdout",
     "output_type": "stream",
     "text": [
      "2\n"
     ]
    },
    {
     "data": {
      "text/plain": [
       "<Figure size 640x480 with 1 Axes>"
      ]
     },
     "metadata": {},
     "output_type": "display_data"
    },
    {
     "name": "stdout",
     "output_type": "stream",
     "text": [
      "2\n"
     ]
    },
    {
     "data": {
      "text/plain": [
       "<Figure size 640x480 with 1 Axes>"
      ]
     },
     "metadata": {},
     "output_type": "display_data"
    },
    {
     "name": "stdout",
     "output_type": "stream",
     "text": [
      "2\n"
     ]
    },
    {
     "data": {
      "text/plain": [
       "<Figure size 640x480 with 1 Axes>"
      ]
     },
     "metadata": {},
     "output_type": "display_data"
    },
    {
     "name": "stdout",
     "output_type": "stream",
     "text": [
      "5\n"
     ]
    },
    {
     "data": {
      "text/plain": [
       "<Figure size 640x480 with 1 Axes>"
      ]
     },
     "metadata": {},
     "output_type": "display_data"
    },
    {
     "name": "stdout",
     "output_type": "stream",
     "text": [
      "5\n"
     ]
    },
    {
     "data": {
      "text/plain": [
       "<Figure size 640x480 with 1 Axes>"
      ]
     },
     "metadata": {},
     "output_type": "display_data"
    },
    {
     "name": "stdout",
     "output_type": "stream",
     "text": [
      "3\n"
     ]
    },
    {
     "data": {
      "text/plain": [
       "<Figure size 640x480 with 1 Axes>"
      ]
     },
     "metadata": {},
     "output_type": "display_data"
    },
    {
     "name": "stdout",
     "output_type": "stream",
     "text": [
      "3\n"
     ]
    },
    {
     "data": {
      "text/plain": [
       "<Figure size 640x480 with 1 Axes>"
      ]
     },
     "metadata": {},
     "output_type": "display_data"
    },
    {
     "name": "stdout",
     "output_type": "stream",
     "text": [
      "3\n"
     ]
    },
    {
     "data": {
      "text/plain": [
       "<Figure size 640x480 with 1 Axes>"
      ]
     },
     "metadata": {},
     "output_type": "display_data"
    },
    {
     "name": "stdout",
     "output_type": "stream",
     "text": [
      "9\n",
      "octave = 10\n",
      "low_octave_ind = 0\n",
      "high_octave_ind = 14\n",
      "(132, 132, 3)\n",
      "5\n"
     ]
    },
    {
     "data": {
      "text/plain": [
       "<Figure size 640x480 with 1 Axes>"
      ]
     },
     "metadata": {},
     "output_type": "display_data"
    },
    {
     "name": "stdout",
     "output_type": "stream",
     "text": [
      "5\n"
     ]
    },
    {
     "data": {
      "text/plain": [
       "<Figure size 640x480 with 1 Axes>"
      ]
     },
     "metadata": {},
     "output_type": "display_data"
    },
    {
     "name": "stdout",
     "output_type": "stream",
     "text": [
      "2\n"
     ]
    },
    {
     "data": {
      "text/plain": [
       "<Figure size 640x480 with 1 Axes>"
      ]
     },
     "metadata": {},
     "output_type": "display_data"
    },
    {
     "name": "stdout",
     "output_type": "stream",
     "text": [
      "2\n"
     ]
    },
    {
     "data": {
      "text/plain": [
       "<Figure size 640x480 with 1 Axes>"
      ]
     },
     "metadata": {},
     "output_type": "display_data"
    },
    {
     "name": "stdout",
     "output_type": "stream",
     "text": [
      "2\n"
     ]
    },
    {
     "data": {
      "text/plain": [
       "<Figure size 640x480 with 1 Axes>"
      ]
     },
     "metadata": {},
     "output_type": "display_data"
    },
    {
     "name": "stdout",
     "output_type": "stream",
     "text": [
      "2\n"
     ]
    },
    {
     "data": {
      "text/plain": [
       "<Figure size 640x480 with 1 Axes>"
      ]
     },
     "metadata": {},
     "output_type": "display_data"
    },
    {
     "name": "stdout",
     "output_type": "stream",
     "text": [
      "2\n"
     ]
    },
    {
     "data": {
      "text/plain": [
       "<Figure size 640x480 with 1 Axes>"
      ]
     },
     "metadata": {},
     "output_type": "display_data"
    },
    {
     "name": "stdout",
     "output_type": "stream",
     "text": [
      "5\n"
     ]
    },
    {
     "data": {
      "text/plain": [
       "<Figure size 640x480 with 1 Axes>"
      ]
     },
     "metadata": {},
     "output_type": "display_data"
    },
    {
     "name": "stdout",
     "output_type": "stream",
     "text": [
      "5\n"
     ]
    },
    {
     "data": {
      "text/plain": [
       "<Figure size 640x480 with 1 Axes>"
      ]
     },
     "metadata": {},
     "output_type": "display_data"
    },
    {
     "name": "stdout",
     "output_type": "stream",
     "text": [
      "3\n"
     ]
    },
    {
     "data": {
      "text/plain": [
       "<Figure size 640x480 with 1 Axes>"
      ]
     },
     "metadata": {},
     "output_type": "display_data"
    },
    {
     "name": "stdout",
     "output_type": "stream",
     "text": [
      "3\n"
     ]
    },
    {
     "data": {
      "text/plain": [
       "<Figure size 640x480 with 1 Axes>"
      ]
     },
     "metadata": {},
     "output_type": "display_data"
    },
    {
     "name": "stdout",
     "output_type": "stream",
     "text": [
      "3\n"
     ]
    },
    {
     "data": {
      "text/plain": [
       "<Figure size 640x480 with 1 Axes>"
      ]
     },
     "metadata": {},
     "output_type": "display_data"
    },
    {
     "name": "stdout",
     "output_type": "stream",
     "text": [
      "10\n",
      "octave = 11\n",
      "low_octave_ind = 0\n",
      "high_octave_ind = 14\n",
      "(185, 185, 3)\n",
      "5\n"
     ]
    },
    {
     "data": {
      "text/plain": [
       "<Figure size 640x480 with 1 Axes>"
      ]
     },
     "metadata": {},
     "output_type": "display_data"
    },
    {
     "name": "stdout",
     "output_type": "stream",
     "text": [
      "5\n"
     ]
    },
    {
     "data": {
      "text/plain": [
       "<Figure size 640x480 with 1 Axes>"
      ]
     },
     "metadata": {},
     "output_type": "display_data"
    },
    {
     "name": "stdout",
     "output_type": "stream",
     "text": [
      "2\n"
     ]
    },
    {
     "data": {
      "text/plain": [
       "<Figure size 640x480 with 1 Axes>"
      ]
     },
     "metadata": {},
     "output_type": "display_data"
    },
    {
     "name": "stdout",
     "output_type": "stream",
     "text": [
      "2\n"
     ]
    },
    {
     "data": {
      "text/plain": [
       "<Figure size 640x480 with 1 Axes>"
      ]
     },
     "metadata": {},
     "output_type": "display_data"
    },
    {
     "name": "stdout",
     "output_type": "stream",
     "text": [
      "2\n"
     ]
    },
    {
     "data": {
      "text/plain": [
       "<Figure size 640x480 with 1 Axes>"
      ]
     },
     "metadata": {},
     "output_type": "display_data"
    },
    {
     "name": "stdout",
     "output_type": "stream",
     "text": [
      "2\n"
     ]
    },
    {
     "data": {
      "text/plain": [
       "<Figure size 640x480 with 1 Axes>"
      ]
     },
     "metadata": {},
     "output_type": "display_data"
    },
    {
     "name": "stdout",
     "output_type": "stream",
     "text": [
      "2\n"
     ]
    },
    {
     "data": {
      "text/plain": [
       "<Figure size 640x480 with 1 Axes>"
      ]
     },
     "metadata": {},
     "output_type": "display_data"
    },
    {
     "name": "stdout",
     "output_type": "stream",
     "text": [
      "5\n"
     ]
    },
    {
     "data": {
      "text/plain": [
       "<Figure size 640x480 with 1 Axes>"
      ]
     },
     "metadata": {},
     "output_type": "display_data"
    },
    {
     "name": "stdout",
     "output_type": "stream",
     "text": [
      "5\n"
     ]
    },
    {
     "data": {
      "text/plain": [
       "<Figure size 640x480 with 1 Axes>"
      ]
     },
     "metadata": {},
     "output_type": "display_data"
    },
    {
     "name": "stdout",
     "output_type": "stream",
     "text": [
      "3\n"
     ]
    },
    {
     "data": {
      "text/plain": [
       "<Figure size 640x480 with 1 Axes>"
      ]
     },
     "metadata": {},
     "output_type": "display_data"
    },
    {
     "name": "stdout",
     "output_type": "stream",
     "text": [
      "3\n"
     ]
    },
    {
     "data": {
      "text/plain": [
       "<Figure size 640x480 with 1 Axes>"
      ]
     },
     "metadata": {},
     "output_type": "display_data"
    },
    {
     "name": "stdout",
     "output_type": "stream",
     "text": [
      "3\n"
     ]
    },
    {
     "data": {
      "text/plain": [
       "<Figure size 640x480 with 1 Axes>"
      ]
     },
     "metadata": {},
     "output_type": "display_data"
    },
    {
     "name": "stdout",
     "output_type": "stream",
     "text": [
      "11\n",
      "octave = 12\n",
      "low_octave_ind = 0\n",
      "high_octave_ind = 14\n",
      "(260, 260, 3)\n",
      "5\n"
     ]
    },
    {
     "data": {
      "text/plain": [
       "<Figure size 640x480 with 1 Axes>"
      ]
     },
     "metadata": {},
     "output_type": "display_data"
    },
    {
     "name": "stdout",
     "output_type": "stream",
     "text": [
      "5\n"
     ]
    },
    {
     "data": {
      "text/plain": [
       "<Figure size 640x480 with 1 Axes>"
      ]
     },
     "metadata": {},
     "output_type": "display_data"
    },
    {
     "name": "stdout",
     "output_type": "stream",
     "text": [
      "2\n"
     ]
    },
    {
     "data": {
      "text/plain": [
       "<Figure size 640x480 with 1 Axes>"
      ]
     },
     "metadata": {},
     "output_type": "display_data"
    },
    {
     "name": "stdout",
     "output_type": "stream",
     "text": [
      "2\n"
     ]
    },
    {
     "data": {
      "text/plain": [
       "<Figure size 640x480 with 1 Axes>"
      ]
     },
     "metadata": {},
     "output_type": "display_data"
    },
    {
     "name": "stdout",
     "output_type": "stream",
     "text": [
      "2\n"
     ]
    },
    {
     "data": {
      "text/plain": [
       "<Figure size 640x480 with 1 Axes>"
      ]
     },
     "metadata": {},
     "output_type": "display_data"
    },
    {
     "name": "stdout",
     "output_type": "stream",
     "text": [
      "2\n"
     ]
    },
    {
     "data": {
      "text/plain": [
       "<Figure size 640x480 with 1 Axes>"
      ]
     },
     "metadata": {},
     "output_type": "display_data"
    },
    {
     "name": "stdout",
     "output_type": "stream",
     "text": [
      "2\n"
     ]
    },
    {
     "data": {
      "text/plain": [
       "<Figure size 640x480 with 1 Axes>"
      ]
     },
     "metadata": {},
     "output_type": "display_data"
    },
    {
     "name": "stdout",
     "output_type": "stream",
     "text": [
      "5\n"
     ]
    },
    {
     "data": {
      "text/plain": [
       "<Figure size 640x480 with 1 Axes>"
      ]
     },
     "metadata": {},
     "output_type": "display_data"
    },
    {
     "name": "stdout",
     "output_type": "stream",
     "text": [
      "5\n"
     ]
    },
    {
     "data": {
      "text/plain": [
       "<Figure size 640x480 with 1 Axes>"
      ]
     },
     "metadata": {},
     "output_type": "display_data"
    },
    {
     "name": "stdout",
     "output_type": "stream",
     "text": [
      "3\n"
     ]
    },
    {
     "data": {
      "text/plain": [
       "<Figure size 640x480 with 1 Axes>"
      ]
     },
     "metadata": {},
     "output_type": "display_data"
    },
    {
     "name": "stdout",
     "output_type": "stream",
     "text": [
      "3\n"
     ]
    },
    {
     "data": {
      "text/plain": [
       "<Figure size 640x480 with 1 Axes>"
      ]
     },
     "metadata": {},
     "output_type": "display_data"
    },
    {
     "name": "stdout",
     "output_type": "stream",
     "text": [
      "3\n"
     ]
    },
    {
     "data": {
      "text/plain": [
       "<Figure size 640x480 with 1 Axes>"
      ]
     },
     "metadata": {},
     "output_type": "display_data"
    },
    {
     "name": "stdout",
     "output_type": "stream",
     "text": [
      "12\n",
      "octave = 13\n",
      "low_octave_ind = 0\n",
      "high_octave_ind = 14\n",
      "(365, 365, 3)\n",
      "5\n"
     ]
    },
    {
     "data": {
      "text/plain": [
       "<Figure size 640x480 with 1 Axes>"
      ]
     },
     "metadata": {},
     "output_type": "display_data"
    },
    {
     "name": "stdout",
     "output_type": "stream",
     "text": [
      "5\n"
     ]
    },
    {
     "data": {
      "text/plain": [
       "<Figure size 640x480 with 1 Axes>"
      ]
     },
     "metadata": {},
     "output_type": "display_data"
    },
    {
     "name": "stdout",
     "output_type": "stream",
     "text": [
      "2\n"
     ]
    },
    {
     "data": {
      "text/plain": [
       "<Figure size 640x480 with 1 Axes>"
      ]
     },
     "metadata": {},
     "output_type": "display_data"
    },
    {
     "name": "stdout",
     "output_type": "stream",
     "text": [
      "2\n"
     ]
    },
    {
     "data": {
      "text/plain": [
       "<Figure size 640x480 with 1 Axes>"
      ]
     },
     "metadata": {},
     "output_type": "display_data"
    },
    {
     "name": "stdout",
     "output_type": "stream",
     "text": [
      "2\n"
     ]
    },
    {
     "data": {
      "text/plain": [
       "<Figure size 640x480 with 1 Axes>"
      ]
     },
     "metadata": {},
     "output_type": "display_data"
    },
    {
     "name": "stdout",
     "output_type": "stream",
     "text": [
      "2\n"
     ]
    },
    {
     "data": {
      "text/plain": [
       "<Figure size 640x480 with 1 Axes>"
      ]
     },
     "metadata": {},
     "output_type": "display_data"
    },
    {
     "name": "stdout",
     "output_type": "stream",
     "text": [
      "2\n"
     ]
    },
    {
     "data": {
      "text/plain": [
       "<Figure size 640x480 with 1 Axes>"
      ]
     },
     "metadata": {},
     "output_type": "display_data"
    },
    {
     "name": "stdout",
     "output_type": "stream",
     "text": [
      "5\n"
     ]
    },
    {
     "data": {
      "text/plain": [
       "<Figure size 640x480 with 1 Axes>"
      ]
     },
     "metadata": {},
     "output_type": "display_data"
    },
    {
     "name": "stdout",
     "output_type": "stream",
     "text": [
      "5\n"
     ]
    },
    {
     "data": {
      "text/plain": [
       "<Figure size 640x480 with 1 Axes>"
      ]
     },
     "metadata": {},
     "output_type": "display_data"
    },
    {
     "name": "stdout",
     "output_type": "stream",
     "text": [
      "3\n"
     ]
    },
    {
     "data": {
      "text/plain": [
       "<Figure size 640x480 with 1 Axes>"
      ]
     },
     "metadata": {},
     "output_type": "display_data"
    },
    {
     "name": "stdout",
     "output_type": "stream",
     "text": [
      "3\n"
     ]
    },
    {
     "data": {
      "text/plain": [
       "<Figure size 640x480 with 1 Axes>"
      ]
     },
     "metadata": {},
     "output_type": "display_data"
    },
    {
     "name": "stdout",
     "output_type": "stream",
     "text": [
      "3\n"
     ]
    },
    {
     "data": {
      "text/plain": [
       "<Figure size 640x480 with 1 Axes>"
      ]
     },
     "metadata": {},
     "output_type": "display_data"
    },
    {
     "name": "stdout",
     "output_type": "stream",
     "text": [
      "13\n",
      "octave = 14\n",
      "low_octave_ind = 0\n",
      "high_octave_ind = 14\n",
      "(512, 512, 3)\n",
      "5\n"
     ]
    },
    {
     "data": {
      "text/plain": [
       "<Figure size 640x480 with 1 Axes>"
      ]
     },
     "metadata": {},
     "output_type": "display_data"
    },
    {
     "name": "stdout",
     "output_type": "stream",
     "text": [
      "5\n"
     ]
    },
    {
     "data": {
      "text/plain": [
       "<Figure size 640x480 with 1 Axes>"
      ]
     },
     "metadata": {},
     "output_type": "display_data"
    },
    {
     "name": "stdout",
     "output_type": "stream",
     "text": [
      "2\n"
     ]
    },
    {
     "data": {
      "text/plain": [
       "<Figure size 640x480 with 1 Axes>"
      ]
     },
     "metadata": {},
     "output_type": "display_data"
    },
    {
     "name": "stdout",
     "output_type": "stream",
     "text": [
      "2\n"
     ]
    },
    {
     "data": {
      "text/plain": [
       "<Figure size 640x480 with 1 Axes>"
      ]
     },
     "metadata": {},
     "output_type": "display_data"
    },
    {
     "name": "stdout",
     "output_type": "stream",
     "text": [
      "2\n"
     ]
    },
    {
     "data": {
      "text/plain": [
       "<Figure size 640x480 with 1 Axes>"
      ]
     },
     "metadata": {},
     "output_type": "display_data"
    },
    {
     "name": "stdout",
     "output_type": "stream",
     "text": [
      "2\n"
     ]
    },
    {
     "data": {
      "text/plain": [
       "<Figure size 640x480 with 1 Axes>"
      ]
     },
     "metadata": {},
     "output_type": "display_data"
    },
    {
     "name": "stdout",
     "output_type": "stream",
     "text": [
      "2\n"
     ]
    },
    {
     "data": {
      "text/plain": [
       "<Figure size 640x480 with 1 Axes>"
      ]
     },
     "metadata": {},
     "output_type": "display_data"
    },
    {
     "name": "stdout",
     "output_type": "stream",
     "text": [
      "5\n"
     ]
    },
    {
     "data": {
      "text/plain": [
       "<Figure size 640x480 with 1 Axes>"
      ]
     },
     "metadata": {},
     "output_type": "display_data"
    },
    {
     "name": "stdout",
     "output_type": "stream",
     "text": [
      "5\n"
     ]
    },
    {
     "data": {
      "text/plain": [
       "<Figure size 640x480 with 1 Axes>"
      ]
     },
     "metadata": {},
     "output_type": "display_data"
    },
    {
     "name": "stdout",
     "output_type": "stream",
     "text": [
      "3\n"
     ]
    },
    {
     "data": {
      "text/plain": [
       "<Figure size 640x480 with 1 Axes>"
      ]
     },
     "metadata": {},
     "output_type": "display_data"
    },
    {
     "name": "stdout",
     "output_type": "stream",
     "text": [
      "3\n"
     ]
    },
    {
     "data": {
      "text/plain": [
       "<Figure size 640x480 with 1 Axes>"
      ]
     },
     "metadata": {},
     "output_type": "display_data"
    },
    {
     "name": "stdout",
     "output_type": "stream",
     "text": [
      "3\n"
     ]
    },
    {
     "data": {
      "text/plain": [
       "<Figure size 640x480 with 1 Axes>"
      ]
     },
     "metadata": {},
     "output_type": "display_data"
    },
    {
     "name": "stdout",
     "output_type": "stream",
     "text": [
      "14\n",
      "Done\n"
     ]
    }
   ],
   "source": [
    "import numpy as np\n",
    "from functools import partial\n",
    "import PIL.Image\n",
    "import tensorflow as tf\n",
    "import matplotlib.pyplot as plt\n",
    "import matplotlib\n",
    "import urllib.request\n",
    "import os\n",
    "import zipfile\n",
    "import time\n",
    "from tkinter import *\n",
    "import math\n",
    "\n",
    "#matplotlib.use('Qt4Agg', warn=False)\n",
    "\n",
    "def main():\n",
    "    #Step 1 - download google's pre-trained neural network\n",
    "    url = 'https://storage.googleapis.com/download.tensorflow.org/models/inception5h.zip'\n",
    "    data_dir = './data/'\n",
    "    model_name = os.path.split(url)[-1]\n",
    "    local_zip_file = os.path.join(data_dir, model_name)\n",
    "    if not os.path.exists(local_zip_file):\n",
    "        # Download\n",
    "        model_url = urllib.request.urlopen(url)\n",
    "        with open(local_zip_file, 'wb') as output:\n",
    "            output.write(model_url.read())\n",
    "        # Extract\n",
    "        with zipfile.ZipFile(local_zip_file, 'r') as zip_ref:\n",
    "            zip_ref.extractall(data_dir)\n",
    "  \n",
    "    # start with a gray image with a little noise\n",
    "    img_noise = np.random.uniform(size=(224,224,3)) + 100.0\n",
    "  \n",
    "    model_fn = 'tensorflow_inception_graph.pb'\n",
    "    \n",
    "    #Step 2 - Creating Tensorflow session and loading the model\n",
    "    graph = tf.Graph()\n",
    "    sess = tf.InteractiveSession(graph=graph)\n",
    "    #read in graph file\n",
    "    with tf.gfile.FastGFile(os.path.join(data_dir, model_fn), 'rb') as f:\n",
    "        graph_def = tf.GraphDef()\n",
    "        graph_def.ParseFromString(f.read())\n",
    "    t_input = tf.placeholder(np.float32, name='input') # define the input tensor\n",
    "    t_filter_weights = tf.placeholder(np.float32, name=\"filter_weights\")\n",
    "    imagenet_mean = 117.0\n",
    "    t_preprocessed = tf.expand_dims(t_input-imagenet_mean, 0)\n",
    "    #create default graph\n",
    "    tf.import_graph_def(graph_def, {'input':t_preprocessed})\n",
    "    \n",
    "    layers = [op.name for op in graph.get_operations() if op.type=='Conv2D' and 'import/' in op.name]\n",
    "    feature_nums = [int(graph.get_tensor_by_name(name+':0').get_shape()[-1]) for name in layers]\n",
    "    \n",
    "    print('Number of layers', len(layers))\n",
    "    print('Total number of feature channels:', sum(feature_nums))\n",
    "    print(layers)\n",
    "  \n",
    "\n",
    " \n",
    "    # Helper functions for TF Graph visualization\n",
    " \n",
    "    def showarray(a):\n",
    "        a = np.uint8(np.clip(a, 0, 1)*255)\n",
    "        #plt.figure(figsize = (a.shape[0]/45,a.shape[1]/45))\n",
    "        \n",
    "        plt.imshow(a)\n",
    "        plt.draw()\n",
    "        #plt.show()\n",
    "        plt.pause(0.00001)\n",
    "\n",
    "        \n",
    "\n",
    "    def T(layer):\n",
    "        '''Helper for getting layer output tensor'''\n",
    "        return graph.get_tensor_by_name(\"import/%s:0\"%layer)\n",
    " \n",
    "    def tffunc(*argtypes):\n",
    "        '''Helper that transforms TF-graph generating function into a regular one.\n",
    "        See \"resize\" function below.\n",
    "        '''\n",
    "        placeholders = list(map(tf.placeholder, argtypes))\n",
    "        def wrap(f):\n",
    "            out = f(*placeholders)\n",
    "            def wrapper(*args, **kw):\n",
    "                return out.eval(dict(zip(placeholders, args)), session=kw.get('session'))\n",
    "            return wrapper\n",
    "        return wrap\n",
    "    \n",
    "    def resize(img, size):\n",
    "        img = tf.expand_dims(img, 0)\n",
    "        return tf.image.resize_bilinear(img, size)[0,:,:,:]\n",
    "    resize = tffunc(np.float32, np.int32)(resize)\n",
    "    \n",
    "    def resize_g(img, size):\n",
    "        img = tf.expand_dims(img, 0)\n",
    "        return tf.image.grayscale_to_rgb(tf.image.rgb_to_grayscale(tf.image.resize_bilinear(img, size)))[0,:,:,:]\n",
    "    resize_g = tffunc(np.float32, np.int32)(resize_g)\n",
    "    \n",
    "    def calc_grad_tiled(img, t_grad, filter_weights, tile_size=512):\n",
    "        '''Compute the value of tensor t_grad over the image in a tiled way.\n",
    "        Random shifts are applied to the image to blur tile boundaries over \n",
    "        multiple iterations.'''\n",
    "        sz = tile_size\n",
    "        h, w = img.shape[:2]\n",
    "        sx, sy = np.random.randint(sz, size=2)\n",
    "        img_shift = np.roll(np.roll(img, sx, 1), sy, 0)\n",
    "        grad = np.zeros_like(img)\n",
    "        for y in range(0, max(h-sz//2, sz),sz):\n",
    "            for x in range(0, max(w-sz//2, sz),sz):\n",
    "                sub = img_shift[y:y+sz,x:x+sz]\n",
    "                g = sess.run(t_grad, {t_input:sub, t_filter_weights:filter_weights})\n",
    "                grad[y:y+sz,x:x+sz] = g\n",
    "        return np.roll(np.roll(grad, -sx, 1), -sy, 0)    \n",
    "\n",
    "\n",
    "        \n",
    "    #t_obj is the tensor for the layer selected for visualization \n",
    "    #img0 is image to be transformed - default noise image makes it easier to see patterns found by filter  \n",
    "    #def render_deepdream(t_obj, img0=img_noise, iter_n=10, step=1.5, octave_n=8, octave_scale=1.4): #1st w/trump included\n",
    "    def render_deepdream(t_obj, img0=img_noise, filt_img = [img_noise], iter_n=10, step=2.5, oor_step_scale=0.0, octave_n=26, octave_scale=1.2, octave_range=(0.0, 1.0), img0_weight=0.25, brightness=1.0): #2nd w/pug not included\n",
    "        \n",
    "        num_octaves = 0\n",
    "        height = img0.shape[0]\n",
    "        \n",
    "        while height > 2:\n",
    "            num_octaves += 1\n",
    "            height = np.int32(np.float32(height)/octave_scale)\n",
    "            \n",
    "        layers = []    \n",
    "        for obj,step_scale,iter_scale, color in t_obj:\n",
    "            layers.append(obj)\n",
    "            \n",
    "            \n",
    "        all_filter_weights, all_max_weights, all_layer_names = getAllActivations(layers, filt_img)\n",
    "        \n",
    "        grads = []\n",
    "        for obj,step_scale,iter_scale, color in t_obj:\n",
    "            #find layer index\n",
    "            layer_index = -1\n",
    "            for i in range(len(all_layer_names)):\n",
    "                if(obj.name == all_layer_names[i]):\n",
    "                    layer_index = i\n",
    "                    break\n",
    "                \n",
    "            if layer_index == -1:\n",
    "                print (\"Layer name not found: \" + obj.name)\n",
    "                return\n",
    "            \n",
    "            #print(obj.shape.asl_list()[3])\n",
    "            step_scale *= np.square(obj.shape.as_list()[3])/700000.0\n",
    "            #print(step_scale)\n",
    "            \n",
    "            #filter_weights, max_weight = getActivations(obj, filt_img)\n",
    "            filter_weights = all_filter_weights[i]\n",
    "            max_weight = all_max_weights[i]\n",
    "            print(obj.name)\n",
    "            layer_scale = 1.0\n",
    "            \n",
    "            if \"conv2d2\" in obj.name:\n",
    "                layer_scale = math.pow(max_weight/375, 4)\n",
    "                \n",
    "                \n",
    "            if \"conv2d1\" in obj.name:\n",
    "                layer_scale = math.pow(max_weight/325, 4)\n",
    "                \n",
    "            if \"conv2d0\" in obj.name:\n",
    "                layer_scale = math.pow(max_weight/900, 4)\n",
    "                \n",
    "            if \"mixed3a\" in obj.name:\n",
    "                layer_scale = math.pow(max_weight/200, 4)\n",
    "                \n",
    "            if \"mixed3b\" in obj.name:\n",
    "                layer_scale = math.pow(max_weight/275, 4)\n",
    "                \n",
    "            if \"mixed4a\" in obj.name:\n",
    "                layer_scale = math.pow(max_weight/265, 2)\n",
    "            \n",
    "            if \"mixed4b\" in obj.name:\n",
    "                layer_scale = math.pow(max_weight/235, 2)\n",
    "            \n",
    "            if \"mixed4c\" in obj.name:\n",
    "                layer_scale = math.pow(max_weight/105, 2)\n",
    "                \n",
    "            if \"mixed4d\" in obj.name:\n",
    "                layer_scale = math.pow(max_weight/70, 2)\n",
    "                \n",
    "            if \"mixed4e\" in obj.name:\n",
    "                layer_scale = math.pow(max_weight/110, 4)\n",
    "                \n",
    "            if \"mixed5a\" in obj.name:\n",
    "                layer_scale = math.pow(max_weight/80, 4)\n",
    "                \n",
    "            if \"mixed5b\" in obj.name:\n",
    "                layer_scale = math.pow(max_weight/30, 4)\n",
    "            \n",
    "            print(layer_scale)\n",
    "            step_scale *= layer_scale\n",
    "            \n",
    "            obj = tf.square(obj)\n",
    "            score = tf.reduce_mean(obj*t_filter_weights) # defining the optimization objective #obj is the square of the output of the layer - score is mse of layer output\n",
    "            this_step = step_scale * step\n",
    "            grads.append((tf.gradients(score, t_input)[0], this_step, iter_scale, color, filter_weights)) # behold the power of automatic differentiation!\n",
    "    \n",
    "        # split the image into a number of octaves\n",
    "        img = img0\n",
    "        \n",
    "        octaves = []\n",
    "        #for _ in range(octave_n-1):\n",
    "        for _ in range(num_octaves-1):\n",
    "            hw = img.shape[:2]\n",
    "            lo = resize(img, np.int32(np.float32(hw)/octave_scale))\n",
    "            #print(img.shape)\n",
    "            #print(resize(lo, hw).shape)\n",
    "            hi = img-resize(lo, hw)\n",
    "            img = lo\n",
    "            octaves.append(hi)\n",
    "       \n",
    "       ###########KLUDGE TEST \n",
    "        #img = img0\n",
    "        \n",
    "        # generate details octave by octave\n",
    "        low_octave_index = np.int32(octave_range[0] * num_octaves)\n",
    "        high_octave_index = np.int32(octave_range[1] * num_octaves-1)\n",
    "        if high_octave_index == num_octaves:\n",
    "            high_octave_index = num_octaves - 1\n",
    "            \n",
    "        for octave in range(num_octaves):\n",
    "        #for octave in range(low_octave_index, high_octave_index):\n",
    "            print('octave = ' + str(octave))\n",
    "            print('low_octave_ind = ' + str(low_octave_index))\n",
    "            print('high_octave_ind = ' + str(high_octave_index))\n",
    "            if(octave < low_octave_index):\n",
    "                continue\n",
    "                \n",
    "            if octave < low_octave_index or octave > high_octave_index:\n",
    "                iter_num = 1\n",
    "            else:\n",
    "                iter_num = iter_n\n",
    "  \n",
    "\n",
    "            if octave>0:\n",
    "                hi = octaves[-octave]\n",
    "                print(hi.shape)\n",
    "                if iter_num > 1:\n",
    "                    img = (1-img0_weight)*resize(img, hi.shape[:2])+ img0_weight*resize(img0, hi.shape[:2]) + hi\n",
    "                elif octave < low_octave_index:\n",
    "                    img = resize_g(img, hi.shape[:2])\n",
    "                else:\n",
    "                    img = resize(img, hi.shape[:2])\n",
    "            \"\"\"\n",
    "            for _ in range(iter_n):\n",
    "                for grad in grads:\n",
    "            \"\"\"\n",
    "\n",
    "            for grad in grads:\n",
    "                grad_step = grad[1]\n",
    "                num_iter = np.int32(grad[2]*iter_num)\n",
    "                if octave < low_octave_index or octave > high_octave_index:\n",
    "                    grad_step = grad_step * oor_step_scale\n",
    "                    num_iter = 1\n",
    "                    \n",
    "                print(num_iter)\n",
    "                for i in range(num_iter):\n",
    "                    g = calc_grad_tiled(img, grad[0], grad[4])\n",
    "                    if grad[3] == 0:\n",
    "                        img += g*(grad_step / (np.abs(g).mean()+1e-7))\n",
    "                    elif grad[3] == 1:\n",
    "                        update = g*(grad_step / (np.abs(g).mean()+1e-7))\n",
    "                        new_update = update\n",
    "                        new_update[:,:,0] = update[:,:,0]\n",
    "                        new_update[:,:,1] = update[:,:,2]\n",
    "                        new_update[:,:,2] = update[:,:,1]\n",
    "                        #print(new_update)\n",
    "                        img += new_update\n",
    "                        #img += g*(grad[1] / (np.abs(g).mean()+1e-7))\n",
    "                        #print(g*(grad[1] / (np.abs(g).mean()+1e-7)))\n",
    "                    elif grad[3] == 2:\n",
    "                        update = g*(grad_step/ (np.abs(g).mean()+1e-7))\n",
    "                        new_update = update\n",
    "                        new_update[:,:,0] = update[:,:,1]\n",
    "                        new_update[:,:,1] = update[:,:,0]\n",
    "                        new_update[:,:,2] = update[:,:,2]\n",
    "                        #print(new_update)\n",
    "                        img += new_update\n",
    "                        #img += g*(grad[1] / (np.abs(g).mean()+1e-7))\n",
    "                        #print(g*(grad[1] / (np.abs(g).mean()+1e-7)))\n",
    "                    elif grad[3] == 3:\n",
    "                        update = g*(grad_step/ (np.abs(g).mean()+1e-7))\n",
    "                        new_update = update\n",
    "                        new_update[:,:,0] = update[:,:,1]\n",
    "                        new_update[:,:,1] = update[:,:,2]\n",
    "                        new_update[:,:,2] = update[:,:,0]\n",
    "                        #print(new_update)\n",
    "                        img += new_update\n",
    "                        #img += g*(grad[1] / (np.abs(g).mean()+1e-7))\n",
    "                        #print(g*(grad[1] / (np.abs(g).mean()+1e-7)))\n",
    "                    elif grad[3] == 4:\n",
    "\n",
    "                        update = g*(grad_step / (np.abs(g).mean()+1e-7))\n",
    "                        new_update = update\n",
    "                        new_update[:,:,0] = update[:,:,2]\n",
    "                        new_update[:,:,1] = update[:,:,0]\n",
    "                        new_update[:,:,2] = update[:,:,1]\n",
    "                        #print(new_update)\n",
    "                        img += new_update\n",
    "                        #img += g*(grad[1] / (np.abs(g).mean()+1e-7))\n",
    "                        #print(g*(grad[1] / (np.abs(g).mean()+1e-7)))\n",
    "                    elif grad[3] == 5:\n",
    "                        update = g*(grad_step / (np.abs(g).mean()+1e-7))\n",
    "                        new_update = update\n",
    "                        new_update[:,:,0] = update[:,:,2]\n",
    "                        new_update[:,:,1] = update[:,:,1]\n",
    "                        new_update[:,:,2] = update[:,:,0]\n",
    "                        #print(new_update)\n",
    "                        img += new_update\n",
    "                        #img += g*(grad[1] / (np.abs(g).mean()+1e-7))\n",
    "                        #print(g*(grad[1] / (np.abs(g).mean()+1e-7)))\n",
    "                        \n",
    "                    if (i == num_iter-1):\n",
    "                        \n",
    "                        if brightness < 1.0:\n",
    "                            img_out = img * brightness\n",
    "                        elif brightness > 1.0:\n",
    "                            #print(img)\n",
    "                            inv_img = 255.0 - img\n",
    "                            inv_img = inv_img*(brightness - 1.0)\n",
    "                            img_out = img + inv_img\n",
    "                            #print(inv_img)\n",
    "                        else:\n",
    "                            img_out = img\n",
    "                            \n",
    "                        showarray(img_out/255.0)\n",
    "            \n",
    "            #this will usually be like 3 or 4 octaves\n",
    "            #Step 5 output deep dream image via matplotlib\n",
    "            #showarray(img/255.0)\n",
    "            print(octave)\n",
    "        \"\"\"    \n",
    "        #do last full res  pass\n",
    "        hi = octaves[-(num_octaves-1)]\n",
    "        print(hi.shape)\n",
    "        img = resize(img, hi.shape[:2])+hi\n",
    "        for i in range(iter_n):\n",
    "            for grad in grads:\n",
    "                g = calc_grad_tiled(img, grad[0])\n",
    "                img += g*(grad[1] / (np.abs(g).mean()+1e-7))\n",
    "                if (i%8 == 0):\n",
    "                        showarray(img/255.0)\n",
    "        \"\"\"\n",
    "                \n",
    "        #showarray(img/255.0)\n",
    "        #showarray(((img-img0)+img0.mean())/255.0)\n",
    "        \n",
    "    def plotNNFilter(units):\n",
    "        global plt\n",
    "        filters = units.shape[3]\n",
    "        plt.figure(1, figsize=(20,20))\n",
    "        n_columns = 6\n",
    "        n_rows = math.ceil(filters / n_columns) + 1\n",
    "        for i in range(filters):\n",
    "            plt.subplot(n_rows, n_columns, i+1)\n",
    "            plt.title('Filter ' + str(i))\n",
    "            plt.imshow(units[0,:,:,i], interpolation=\"nearest\", cmap=\"gray\")\n",
    "\n",
    "            \n",
    "    def getAllActivations(layers,images):\n",
    "        filt_name = \"dogface\"\n",
    "        all_filter_weights = []\n",
    "        all_max_weights = []\n",
    "        all_layer_names = []\n",
    "        unfinished_layers = []\n",
    "        for layer in layers:\n",
    "            filename = \"filter_weights/\"+filt_name+\"/\" + layer.name + \".wgt\"\n",
    "            max_file = \"filter_weights/\"+filt_name+\"/\" + layer.name + \".max\"\n",
    "            if(os.path.isfile(filename)):\n",
    "                filter_wts = np.fromfile(filename, dtype=np.float32)\n",
    "                max_wt = np.fromfile(max_file, dtype=np.float32)\n",
    "                print(\"Saved Max weight: \" + str(max_wt))\n",
    "                all_filter_weights.append(filter_wts)\n",
    "                all_max_weights.append(max_wt)\n",
    "                all_layer_names.append(layer.name)\n",
    "                continue\n",
    "            else:\n",
    "                unfinished_layers.append(layer)\n",
    "                \n",
    "        all_units_names = []      \n",
    "        all_units = []\n",
    "        count = -1\n",
    "\n",
    "\n",
    "        for image in images:\n",
    "            #this_image_filter_weights = []\n",
    "            #this_image_max_weights = []\n",
    "            count += 1\n",
    "            if(len(unfinished_layers) > 0):\n",
    "                all_units = sess.run(unfinished_layers,feed_dict={t_input:image})\n",
    "                \n",
    "            for i in range(len(all_units)):\n",
    "                all_units_names.append((unfinished_layers[i].name,all_units[i]))\n",
    "            for name, units in all_units_names:\n",
    "                filename = \"filter_weights/\"+filt_name+\"/\" + name + \".wgt.temp\"+str(count)\n",
    "                max_file = \"filter_weights/\"+filt_name+\"/\" + name + \".max.temp\"+str(count)\n",
    "                filters = units.shape[3]\n",
    "                filter_weights = []\n",
    "                max_weight = 0\n",
    "                for i in range(filters):\n",
    "                    unit = units[0, :, :, i]\n",
    "                    #mean = tf.reduce_mean(unit)\n",
    "                    mean_val = np.mean(unit)\n",
    "                    \"\"\"\n",
    "                    if mean.eval() > 20:\n",
    "                        filter_weights.append(1.0)\n",
    "                    else:\n",
    "                        filter_weights.append(0.0)\n",
    "                        \"\"\"\n",
    "                    #mean_val = mean.eval()\n",
    "                    if mean_val > max_weight:\n",
    "                        max_weight = mean_val\n",
    "                    filter_weights.append(mean_val)\n",
    "                    \n",
    "                #filter_weights /= max_weight\n",
    "                \n",
    "                \"\"\"\n",
    "                for i in range(len(filter_weights)):\n",
    "                    if filter_weights[i] < 0.05:\n",
    "                        filter_weights[i] = 0.0\n",
    "                \"\"\"\n",
    "                \"\"\"    \n",
    "                units = units * filter_weights\n",
    "                print(units.shape)\n",
    "                print(np.array(filter_weights).shape)\n",
    "                \n",
    "                for i in range(filters):\n",
    "                    unit = units[0, :, :, i]\n",
    "                    mean = tf.reduce_mean(unit)\n",
    "                    print(mean.eval())\n",
    "                \n",
    "                plotNNFilter(units)\n",
    "                \"\"\"\n",
    "                #print(\"Max weight: \" + str(max_weight))\n",
    "                \n",
    "                filter_weights = np.array(filter_weights)\n",
    "                filter_weights.tofile(filename)\n",
    "                max_weight = np.array(max_weight)\n",
    "                max_weight.tofile(max_file)\n",
    "                print(\"Saved \" + filename)\n",
    "                #all_filter_weights.append(filter_weights)\n",
    "                #all_max_weights.append(max_weight)\n",
    "                #all_layer_names.append(name)\n",
    "        \n",
    "        if len(unfinished_layers) > 0:\n",
    "            for layer in layers:\n",
    "                this_filter_weights = []\n",
    "                this_max_weights = []\n",
    "                for image_num in range(len(images)):\n",
    "                    filename = \"filter_weights/\"+filt_name+\"/\" + layer.name + \".wgt.temp\"+str(image_num)\n",
    "                    max_file = \"filter_weights/\"+filt_name+\"/\" + layer.name + \".max.temp\"+str(image_num)\n",
    "                    \n",
    "                    if(os.path.isfile(filename)):\n",
    "                        filter_wts = np.fromfile(filename, dtype=np.float32)\n",
    "                        max_wt = np.fromfile(max_file, dtype=np.float32)\n",
    "                        print(\"Saved Max weight: \" + str(max_wt))\n",
    "                        \n",
    "                        if len(this_filter_weights) == 0:\n",
    "                            this_filter_weights = filter_wts\n",
    "                        else:\n",
    "                            this_filter_weights += filter_wts\n",
    "                            \n",
    "                        if len(this_max_weights) == 0:\n",
    "                            this_max_weights = max_wt\n",
    "                        else:\n",
    "                            this_max_weights += max_wt\n",
    "                            \n",
    "                        #all_layer_names.append(layer.name)\n",
    "                        os.remove(filename)\n",
    "                        os.remove(max_file)\n",
    "                        continue\n",
    "                    \n",
    "                new_filename = \"filter_weights/\"+filt_name+\"/\" + layer.name + \".wgt\"\n",
    "                new_max_file = \"filter_weights/\"+filt_name+\"/\" + layer.name + \".max\"\n",
    "                \n",
    "                this_filter_weights /= this_max_weights\n",
    "                this_filter_weights = np.array(this_filter_weights)\n",
    "                this_filter_weights.tofile(new_filename)\n",
    "                \n",
    "                this_max_weights = np.array(this_max_weights)\n",
    "                this_max_weights.tofile(new_max_file)\n",
    "                \n",
    "                all_filter_weights.append(this_filter_weights)\n",
    "                all_max_weights.append(this_max_weights)\n",
    "                all_layer_names.append(layer.name)\n",
    "            \n",
    "        return all_filter_weights, all_max_weights, all_layer_names\n",
    "        \n",
    "    def getActivations(layer,stimuli):\n",
    "        filename = \"filter_weights/fur/\" + layer.name + \".wgt\"\n",
    "        max_file = \"filter_weights/fur/\" + layer.name + \".max\"\n",
    "        if(os.path.isfile(filename)):\n",
    "            filter_wts = np.fromfile(filename, dtype=np.float32)\n",
    "            max_wt = np.fromfile(max_file, dtype=np.float32)\n",
    "            print(\"Max weight: \" + str(max_wt))\n",
    "            return filter_wts, max_wt\n",
    "        \n",
    "        units = sess.run(layer,feed_dict={t_input:stimuli})\n",
    "        filters = units.shape[3]\n",
    "        filter_weights = []\n",
    "        max_weight = 0\n",
    "        for i in range(filters):\n",
    "            unit = units[0, :, :, i]\n",
    "            mean = tf.reduce_mean(unit)\n",
    "            \"\"\"\n",
    "            if mean.eval() > 20:\n",
    "                filter_weights.append(1.0)\n",
    "            else:\n",
    "                filter_weights.append(0.0)\n",
    "                \"\"\"\n",
    "            mean_val = mean.eval()\n",
    "            if mean_val > max_weight:\n",
    "                max_weight = mean_val\n",
    "            filter_weights.append(mean_val)\n",
    "            \n",
    "        filter_weights /= max_weight\n",
    "        \n",
    "        \"\"\"\n",
    "        for i in range(len(filter_weights)):\n",
    "            if filter_weights[i] < 0.05:\n",
    "                filter_weights[i] = 0.0\n",
    "        \"\"\"\n",
    "        \"\"\"    \n",
    "        units = units * filter_weights\n",
    "        print(units.shape)\n",
    "        print(np.array(filter_weights).shape)\n",
    "        \n",
    "        for i in range(filters):\n",
    "            unit = units[0, :, :, i]\n",
    "            mean = tf.reduce_mean(unit)\n",
    "            print(mean.eval())\n",
    "        \n",
    "        plotNNFilter(units)\n",
    "        \"\"\"\n",
    "        print(\"Max weight: \" + str(max_weight))\n",
    "        \n",
    "        filter_weights = np.array(filter_weights)\n",
    "        filter_weights.tofile(filename)\n",
    "        max_weight = np.array(max_weight)\n",
    "        max_weight.tofile(max_file)\n",
    "        return filter_weights, max_weight\n",
    "             \n",
    "  \n",
    "   \t#Step 3 - Pick a layer to enhance our image\n",
    "########## Conv\n",
    "    l1 = 'conv2d2' #strokes\n",
    "    l2 = 'conv2d1' #different strokes\n",
    "    l3 = 'conv2d0' #neon edges\n",
    "\n",
    "########## Mixed3  Inception Block?\n",
    "    l4 = 'mixed3b_3x3_bottleneck_pre_relu'  #sweet 139 compartment swirls\n",
    "    l5 = 'mixed3a_3x3_bottleneck_pre_relu'   #sweet 139 tiles\n",
    "    l6 = 'mixed3a_5x5_bottleneck_pre_relu' # hazy orange fireflies sucks\n",
    "    l7 = 'mixed3b_5x5_bottleneck_pre_relu'  #swirly tile\n",
    "\n",
    "    l8 = 'mixed3b_5x5' #big swirl\n",
    "    l9 = 'mixed3a_5x5' #fire\n",
    "\n",
    "    l10 = 'mixed3b_3x3' #boiling\n",
    "    l11 = 'mixed3a_3x3' #tile hieroglyphics\n",
    "    \n",
    "\n",
    "    l12 = 'mixed3b_1x1' # fire swirls cool\n",
    "    l13 = 'mixed3b_1x1_pre_relu' # spots\n",
    "\n",
    "    l14 = 'mixed3a_1x1' # detailed craggy\n",
    "    l15 = 'mixed3a_1x1_pre_relu' #craggy\n",
    "\n",
    "    l16 = 'mixed3a' #detailed tiled swirls nice\n",
    "    l17 = 'mixed3b' #SWIRLY\n",
    "\n",
    "    l18 = 'mixed3b_3x3_pre_relu/conv' #soft spots\n",
    "    l19 = 'mixed3a_3x3_pre_relu/conv' #soft tiled\n",
    "    l20 = 'mixed3b_5x5_pre_relu/conv' #extra swirly tile\n",
    "    l21 = 'mixed3a_5x5_pre_relu/conv' #swirly hazy fireflies\n",
    "    l22 = 'mixed3b_1x1_pre_relu/conv' #spots\n",
    "    l23 = 'mixed3a_1x1_pre_relu/conv' #craggy\n",
    "\n",
    "########## Mixed4\n",
    "    l24 = 'mixed4d_3x3_bottleneck_pre_relu' # eyes maybe mouth\n",
    "    l25 = 'mixed4a_3x3_bottleneck_pre_relu' #holes swirls\n",
    "    l26 = 'mixed4b_3x3_bottleneck_pre_relu' #eyes swirls maybe fur\n",
    "    l27 = 'mixed4c_3x3_bottleneck_pre_relu' #eyes and mouths dogfaces?\n",
    "    \n",
    "    l28 = 'mixed4d_5x5_bottleneck_pre_relu' # scary\n",
    "    l29 = 'mixed4a_5x5_bottleneck_pre_relu' #swirly tile nice\n",
    "    l30 = 'mixed4b_5x5_bottleneck_pre_relu' #doggy\n",
    "    l31 = 'mixed4c_5x5_bottleneck_pre_relu' #crazy doggy\n",
    "\n",
    "    l32 = 'mixed4d_3x3' #shaggy\n",
    "    l33 = 'mixed4a_3x3' #eyeholes\n",
    "    l34 = 'mixed4b_3x3' #eyefur scale background\n",
    "    l35 = 'mixed4c_3x3' # gross mouths?\n",
    "\n",
    "    l36 = 'mixed4d_5x5' #chicken skin flaps\n",
    "    l37 = 'mixed4a_5x5' # tiled swirls cool\n",
    "    l38 = 'mixed4b_5x5' #mouths dogface\n",
    "    l39 = 'mixed4c_5x5' #furry dogfaces triangle patterns\n",
    "\n",
    "\n",
    "    l40 = 'mixed4b_1x1' #dogface\n",
    "    l41 = 'mixed4b_1x1_pre_relu' #pompom\n",
    "\n",
    "    l42 = 'mixed4a_1x1' #swirly\n",
    "    l43 = 'mixed4a_1x1_pre_relu' #swirly\n",
    "\n",
    "    l44 = 'mixed4c_1x1' #animals\n",
    "    l45 = 'mixed4c_1x1_pre_relu' #animal patterns\n",
    "\n",
    "    l46 = 'mixed4d_1x1' #eyes scales feathers\n",
    "    l47 = 'mixed4d_1x1_pre_relu' #dog eyes nose?\n",
    "\n",
    "    l48 = 'mixed4a' #eyes furry\n",
    "    l49 = 'mixed4b' #eyehole swirls\n",
    "    l50 = 'mixed4c' #dogfaces landscape background\n",
    "    l51 = 'mixed4d' #dog eye/nose\n",
    "\n",
    "    l52 = 'mixed4b_3x3_pre_relu/conv'  #eyes furry\n",
    "    l53 = 'mixed4a_3x3_pre_relu/conv'   #swirly holes\n",
    "    l54 = 'mixed4c_3x3_pre_relu/conv'  #mouths\n",
    "    l55 = 'mixed4d_3x3_pre_relu/conv'  #twisted flesh  #turtle plaid\n",
    "    l56 = 'mixed4a_5x5_pre_relu/conv' #swoopy tiles\n",
    "    l57 = 'mixed4b_5x5_pre_relu/conv' #eyes furry\n",
    "    l58 = 'mixed4c_5x5_pre_relu/conv' #furry eyes\n",
    "    l59 = 'mixed4d_5x5_pre_relu/conv' #mouths twisty flesh\n",
    "    l60 = 'mixed4a_1x1_pre_relu/conv' #swirly tiles cool\n",
    "    l61 = 'mixed4b_1x1_pre_relu/conv' # furry eyes\n",
    "    l62 = 'mixed4c_1x1_pre_relu/conv' #furry eyes patterns\n",
    "    l63 = 'mixed4c_1x1_pre_relu/conv' #furry dogfaces patterns\n",
    "    \n",
    "########## Mixed5 FREAKY\n",
    "    l64 = 'mixed5b_3x3_bottleneck_pre_relu' #blackhole eyes bad skin  # birds\n",
    "    l65 = 'mixed5a_3x3_bottleneck_pre_relu' #zombie punk #variety-lizard, scales, mouths, tech\n",
    "    l66 = 'mixed5a_5x5_bottleneck_pre_relu' #whoa freaky #crazy.png\n",
    "    l67 = 'mixed5b_5x5_bottleneck_pre_relu' #freaky cheek damage #chitin eyes hard flat\n",
    "\n",
    "    l68 = 'mixed5b_5x5' #scaly skin #giger organic depth green\n",
    "    l69 = 'mixed5a_5x5' #complex borg head mottled skin # tech nebula.png AWESOME\n",
    "\n",
    "    l70 = 'mixed5b_3x3' #swirly texture skin colored hair #scaly cells closeup\n",
    "    l71 = 'mixed5a_3x3'#colorful crazy eyes scales #ink drop swirls, feather mosaic\n",
    "    \n",
    "\n",
    "    l71 = 'mixed5b_1x1' #complex organic head #feather peacock spotted swooping\n",
    "    l72 = 'mixed5b_1x1_pre_relu' #colorful plant #scales feathers\n",
    "    \n",
    "    l73 = 'mixed5a' #chicken/lizard face explosion #lizard face, insect wing\n",
    "    l74 = 'mixed5b' #detailed yuck #crazy patterns: feather, brain, etc mosaic\n",
    "\n",
    "    l75 = 'mixed5b_3x3_pre_relu/conv' #scary colorful eyes #chicken/lizard eye\n",
    "    l76 = 'mixed5a_3x3_pre_relu/conv' #colorful zombie punk #lizard face/eye\n",
    "    l77 = 'mixed5b_5x5_pre_relu/conv' #zombie eyes  #segmented chitin cells closeup\n",
    "    l78 = 'mixed5a_5x5_pre_relu/conv' #mottled skin patterns #dogears, eyes\n",
    "    l79 = 'mixed5b_1x1_pre_relu/conv' #feathery hole eyes #lizard/bird\n",
    "    l80 = 'mixed5a_1x1_pre_relu/conv' #wavy fur eyes #tumors mouths\n",
    "\n",
    "\n",
    "########## Head\n",
    "    l81 = 'head1_bottleneck' #crazy borg detailed\n",
    "    l82 = 'head0_bottleneck' #crazy scales eyes\n",
    "    \n",
    "    l83 = 'mixed4e'\n",
    "    \n",
    "\n",
    "    channel = 139 # picking some feature channel to visualize\n",
    "    \n",
    "    imgM = PIL.Image.open('pilatus800.jpgmountain')\n",
    "    size = imgM.size\n",
    "    imgM = np.float32(imgM)\n",
    "    \n",
    "    '''\n",
    "    #open image\n",
    "    img0 = PIL.Image.open('pilatus800.jpg')\n",
    "    #img0 = img0.resize(size)\n",
    "    img0 = np.float32(img0)\n",
    "    '''\n",
    "    filter_images = []\n",
    "    for file in os.listdir(\"filter_images\"):\n",
    "        if file.endswith(\".jpg\"):\n",
    "            filter_images.append(PIL.Image.open(\"filter_images/\"+file))\n",
    "\n",
    "    \n",
    "    \n",
    "    plt.ion()\n",
    "    plt.figure(figsize = (imgM.shape[0]/45,imgM.shape[1]/45))\n",
    "    plt.show()\n",
    "\n",
    "    #print([n.name for n in graph.as_graph_def().node])\n",
    "    \n",
    "    #layer_list = [l4,l7, l14, l69] #tunnel_weird.png #cat_cosmic\n",
    "    #layer_list = [l1,l16, l69] #cat_weird.png\n",
    "    layer_list = [l1,l14, l69] #mountain_weird.png\n",
    "    #layer_list = [l12,l14, l69] #cat_fire.png\n",
    "    #layer_list = [l1,l16, l77] #cat_blocks\n",
    "    #layer_list = [l4, l77] #cat_chitin\n",
    "    #layer_list = [l17, l69] #cat_swirl\n",
    "    #layer_list = [l1,l16, l68] #cat_valley\n",
    "    #layer_list = [l1,[l2,-0.25],l14, l69, [l3,-0.05]] #cat_sweet\n",
    "    #layer_list = [l1, l2,[l3,0.2]]\n",
    "    #layer_list = [l4,l69]\n",
    "    \n",
    "    #layer_list = [l1,[l2,-1.5,1],l14, l29, [l69,1,6], [l71,1,3], [l70,1,3], [l77,1,3],[l3,-0.05,1]] # cat_smooth iter-20, step=0.5 fullrange, scale-1.2\n",
    "    #layer_list = [l1,l14, [l7,1,0.25], [l29,1,0.25],[l69,1,0.5], [l68,1,0.25], [l59,1,0.25]] #cat_nice i-10, s-1.0, fullrange, scale-1.1 #cat_detailed i-30, s=1.0 fullrange, scale 1.6\n",
    "    #layer_list = [l4, [l16,1.5,0.25],[l7,1.5,0.25], [l29,1,0.25],[l69,5,1], [l68,1,0.25], [l59,1,0.25]]\n",
    "    \n",
    "    ##layer4\n",
    "    \n",
    "    #layer_list = [[l34,1,1,2]] #arches and animals in the distance\n",
    "    #layer_list = [[l32,1,2.0,2]] #snake\n",
    "    #layer_list = [[l29,1,1,2]] #swoopy tiles\n",
    "    #layer_list = [[l27,1,2.0,2]] #sweet pattern iter-2:Jewelry?\n",
    "    #layer_list = [[l25,1,2.0,2]] #swirl tile holes \n",
    "    #layer_list = [[l35,1,1.0,2]] #plaid snake bodies\n",
    "    #layer_list = [[l37,1,1,2]] #tiled ribbons swirls\n",
    "    #layer_list = [[l39,1,1,2]] #interesting baroque pattern\n",
    "    #layer_list = [[l40,1,2,2]] #swirling snakeskin\n",
    "    #layer_list = [[l41,1,1,2]] #radiating pattern\n",
    "    #layer_list = [[l42,1,1,2]] #swirling holes, van goghish\n",
    "    #layer_list = [[l43,1,1,2]] #pompom swirl tile\n",
    "    #layer_list = [[l44,1,1,2]] #animals in background\n",
    "    #layer_list = [[l46,1,2,2]] #lizard\n",
    "    #layer_list = [[l47,1,1,2]] #swirly lizard\n",
    "    #layer_list = [[l48,1,1,2]] #lizard\n",
    "    #layer_list = [[l52,1,1,2]] #fur eye tile swirl\n",
    "    #layer_list = [[l53,1,1,2]] #tight swirls\n",
    "    #layer_list = [[l54,1,1,2]]# ornate silver\n",
    "    #layer_list = [[l55,1,1,2]] #ornate arches\n",
    "    #layer_list = [[l56,1,1,2]] #tiled ribbons\n",
    "    #layer_list = [[l57,1,1,2]] #eyefur w background\n",
    "    #layer_list = [[l59,1,1,2]] #hanging wrinkled cloth interesting\n",
    "    #layer_list = [[l60,1,1,2]] #swoopy tiled swirls\n",
    "    #layer_list = [[l61,|1,1,2]] #eyefur\n",
    "    #layer_list = [[l63,1,1,2]] # mixture eyefur, tiled swirls, scales, arches\n",
    "    #liZards\n",
    "    #layer_list = [[l66,1,1,2]] #patterns\n",
    "    #layer_list = [[l66,1,1,0]] #cells mouth insanity\n",
    "    #layer_list = [[l66,1,1,1]] \n",
    "    #layer_list = [[l66,1,1,3]] #neon barf\n",
    "    #layer_list = [[l66,1,1,5],[l66,1,1,0]]\n",
    "    #layer_list = [[l67,1,1,2]] #alligator skin pattern\n",
    "    #layer_list = [[l67,1,1,0]] #insanity\n",
    "    #layer_list = [[l70,1,1,0]] #chitin wings\n",
    "    #layer_list = [[l78,1,2,0]] #interesting\n",
    "    layer_list = [[l2,1,1,0],[l29,1,2,0],[l37,1,2,0],[l78,1,2,0],[l69,1,2,0],[l55,1,2,0]] #brussel sprouts\n",
    "    #layer_list = [[l82,1,2,0]]\n",
    "\n",
    "    #fur\n",
    "    #layer_list = [[l1,0.02,0.3,0],[l2,0.02,0.3,0],[l3,0.02,0.3,0], [l16,0.5,0.5,0], [l17,0.5,0.5,0],[l48,1,0.2,0], [l49,1,0.2,0], [l50,1,0.2,0], [l51,1,0.2,0], [l83,0.2,0.2,0], [l73,0.01,0.5,0],[l74,0.01,0.5,0]]#[[l1,0.2,0.2,0], [l2,0.2,0.2,0], [l2,0.2, 0.2,0],[l48, 0.4, 0.4, 0], [l49, 0.4, 0.4, 0], [l50, 0.4, 0.4, 0], [l51, 0.4, 0.4, 0], l73, l74]\n",
    "    layer_list = [[l1,1,0.3,0],[l2,1,0.3,0],[l3,1,0.3,0], [l16,1,0.5,0], [l17,1,0.5,0],[l48,1,0.2,0], [l49,1,0.2,0], [l50,1,0.2,0], [l51,1,0.2,0], [l83,1,0.2,0], [l73,1,0.5,0],[l74,1,0.5,0]]#[[l1,0.2,0.2,0], [l2,0.2,0.2,0], [l2,0.2, 0.2,0],[l48, 0.4, 0.4, 0], [l49, 0.4, 0.4, 0], [l50, 0.4, 0.4, 0], [l51, 0.4, 0.4, 0], l73, l74]\n",
    "    layer_list = [[l73,1,0.5,0],[l74,1,0.5,0],[l48,1,0.2,0], [l49,1,0.2,0], [l50,1,0.2,0], [l51,1,0.2,0], [l83,1,0.2,0], [l16,1,0.5,0], [l17,1,0.5,0],[l1,1,0.3,0],[l2,1,0.3,0],[l3,1,0.3,0]]\n",
    "    #snake\n",
    "    #layer_list = [[l1,1,0.3,0],[l2,1,0.3,0],[l3,1,0.3,0], [l16,1,0.5,0], [l17,1,0.5,0],[l48,1,0.2,0], [l49,1,0.2,0], [l50,1,0.2,0], [l51,1,0.2,0], [l83,1,0.2,0], [l73,1,0.5,0],[l74,1,0.5,0]]#[[l1,0.2,0.2,0], [l2,0.2,0.2,0], [l2,0.2, 0.2,0],[l48, 0.4, 0.4, 0], [l49, 0.4, 0.4, 0], [l50, 0.4, 0.4, 0], [l51, 0.4, 0.4, 0], l73, l74]\n",
    "\n",
    "    layer_list = [n if isinstance(n, (list, tuple)) else [n,1,1, 0] for n in layer_list]\n",
    "    \n",
    "    tf_layer_list = [[T(i[0]), i[1], i[2], i[3]] for i in layer_list]\n",
    "\n",
    "    #Step 4 - Apply gradient ascent to that layer\n",
    "    #render_deepdream(tf.square(T(layer)))\n",
    "    #render_deepdream(tf.square(T('mixed4c')), img0)\n",
    "    #render_deepdream([tf.square(T(layer4)), tf.square(T(layer69)), tf.square(T(layer81))], img0)\n",
    "#     render_deepdream(tf_layer_list, imgM)\n",
    "    \n",
    "#     render_deepdream(tf_layer_list, imgM, filt_img=filter_images, iteakr_n=10, step=1.0, oor_step_scale=0.8, octave_range=(0.0, 1.0), octave_scale=1.6, img0_weight=0.001, brightness=1.1)\n",
    "\n",
    "#     render_deepdream(tf_layer_list, imgM, filt_img=img0, iteakr_n=10, step=1.0, oor_step_scale=0.8, octave_range=(0.0, 1.0), octave_scale=1.6, img0_weight=0.001, brightness=1.1)\n",
    "#     render_deepdream(tf_layer_list, imgM, filt_img=filter_images, iter_n=20, step=0.0002, oor_step_scale=1.0, octave_range=(0.0, 1.0), octave_scale=1.4, img0_weight=0.001, brightness=1.1)\n",
    "    render_deepdream(tf_layer_list, imgM, filt_img=filter_images, iter_n=10, step=1.0, oor_step_scale=1.0, octave_range=(0.0, 1.0), octave_scale=1.4, img0_weight=0.001, brightness=1.1)\n",
    "\n",
    "    #filter_weights = getActivations(T(l48), img0)\n",
    "    #print(filter_weights)\n",
    "      \n",
    "    print(\"Done\")\n",
    "    while True:\n",
    "        plt.pause(0.1)  \n",
    "  \n",
    "if __name__ == '__main__':\n",
    "    main()\n"
   ]
  },
  {
   "cell_type": "code",
   "execution_count": null,
   "metadata": {
    "collapsed": true
   },
   "outputs": [],
   "source": []
  }
 ],
 "metadata": {
  "kernelspec": {
   "display_name": "Python 3",
   "language": "python",
   "name": "python3"
  },
  "language_info": {
   "codemirror_mode": {
    "name": "ipython",
    "version": 3
   },
   "file_extension": ".py",
   "mimetype": "text/x-python",
   "name": "python",
   "nbconvert_exporter": "python",
   "pygments_lexer": "ipython3",
   "version": "3.6.9"
  }
 },
 "nbformat": 4,
 "nbformat_minor": 2
}
